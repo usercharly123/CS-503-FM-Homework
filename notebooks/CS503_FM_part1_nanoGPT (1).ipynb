{
 "cells": [
  {
   "cell_type": "markdown",
   "id": "4bf7f397-467f-4f24-a18f-4143eca2c3ed",
   "metadata": {
    "tags": []
   },
   "source": [
    "# CS 503 Foundation Models: Part 1 - nanoGPT\n",
    "\n",
    "We build nano4M in three parts:\n",
    "1) In this first part, we start by implementing the necessary building blocks to construct an autoregressive Transformer, like GPT.\n",
    "2) In part 2, we will build a masked model in the style of MaskGIT. \n",
    "3) In part 3, we will build a simple 4M-like multimodal model.\n",
    "\n",
    "#### Goals:\n",
    "\n",
    "The goal of this first part is to familiarize yourself with the following topics:\n",
    "- Causal attention\n",
    "- Transformer decoder-only (e.g. GPT, LLaMA, ...) models\n",
    "- Basic tokenization\n",
    "- Basic positional encodings\n",
    "- Autoregressive modelling on text and images\n",
    "- Autoregressive inference\n",
    "\n",
    "This notebook should give you a solid foundation of working with autoregressive Transformer models and get you \"thinking with tokens\".\n",
    "\n",
    "If you want to know more about these topics, please see some of the reading material in the lectures and at the bottom of this notebook, and feel free to ask the TAs.\n",
    "\n",
    "\n",
    "#### Instructions:\n",
    "\n",
    "- Your task is to fill in the missing code in the accompanying codebase (highlighted by `???`), run the training loops and evaluate the trained models with this notebook.\n",
    "- Submit the notebook with all cells executed.\n",
    "- The notebooks are group homework."
   ]
  },
  {
   "cell_type": "markdown",
   "id": "7c7ba70f-25dd-4bdb-953b-d5e4547569ae",
   "metadata": {
    "tags": []
   },
   "source": [
    "---\n",
    "\n",
    "## 1 Setup"
   ]
  },
  {
   "cell_type": "markdown",
   "id": "4f4530be-c761-4957-b8f9-1bca7a35f761",
   "metadata": {},
   "source": [
    "### 1.1 Dependencies and environment\n",
    "\n",
    "The notebook should be run on one GPU, while the actual training requires 1-2 GPUs depending on the config.\n",
    "\n",
    "The required packages for training are specified in `pyproject.toml`. \n",
    "We provide a convenience script, `setup_env.sh`, which creates a `nanofm` environment and Jupyter Kernel, and installs the requirements.\n",
    "\n",
    "After running `bash setup_env.sh`, you can activate the environment with `source activate nanofm`. Similarly, you will have access to the `nano4M kernel (nanofm)` in your Jupyter notebooks for executing the following cells.\n"
   ]
  },
  {
   "cell_type": "markdown",
   "id": "92056502-0af7-49eb-bb35-84e3f55a23ed",
   "metadata": {},
   "source": [
    "### 1.2 Codebase overview\n",
    "\n",
    "This nano4M codebase is a heavily simplified version of the original 4M codebase. We will use it to implement nano versions of [GPT](https://cdn.openai.com/better-language-models/language_models_are_unsupervised_multitask_learners.pdf) for autoregressive text and image generation, [MaskGIT](https://masked-generative-image-transformer.github.io/) for masked text and image generation, and [4M](https://4m.epfl.ch/) for multimodal generation.\n",
    "\n",
    "The codebase is structured in the following manner:\n",
    "\n",
    "- `cfgs/`: Configs specifying exactly what model to train on what data, for how long, etc.\n",
    "- `nanofm`: \n",
    "    - `data`: Contains various data loaders, e.g. for text, vision, and multimodal datasets.\n",
    "    - `modeling`: Contains often used modeling utils, such as Transformer layer definitions.\n",
    "    - `models`: Specific instantiations of models that define the model, forward pass, loss, and generation loop.\n",
    "    - `utils`: Various helper utils related to training, checkpointing, etc.\n",
    "- `notebooks`: Check this directory for the instructions for parts 1-3. You will need to submit these notebooks.\n",
    "- `run_training.py`: This file contains the main training and evaluation loop."
   ]
  },
  {
   "cell_type": "markdown",
   "id": "6a79d566-c02d-4dba-a34c-70cc1600abb6",
   "metadata": {},
   "source": [
    "### 1.3 Weights & Biases setup\n",
    "\n",
    "When training models, it's crucial to log training and validation metrics, as well as stats about the model training that can help to check the health and efficiency of a run.\n",
    "For example, we will log train and validation losses to check that the model is converging properly and is not not overfitting to the train set.\n",
    "Besides that, we log the average norm of the gradient updates to check that it is not exploding, as a sign of the health of the training run.\n",
    "\n",
    "For all of this, we will use Weights & Biases, which also automatically logs system stats like GPU utilization, memory usage, etc.\n",
    "Please visit https://wandb.ai/ and create an account in case you don't have one already. \n",
    "\n",
    "In https://wandb.ai/settings you should see an API key. If not, please create a new one. \n",
    "Copy this key and use it to [log in](https://docs.wandb.ai/ref/cli/wandb-login/) by calling `wandb login <KEY>`. You should see the message `wandb: W&B API key is configured`.\n",
    "You may alternatively log in to wandb by adding it as an environment variable: `export WANDB_API_KEY=<KEY>`.\n",
    "\n",
    "Now, when running training jobs on a new node, make sure to log in before starting the training, and remember to fill the `wandb_entity` entry in the configs with your wandb user name."
   ]
  },
  {
   "cell_type": "markdown",
   "id": "e3365eba-118f-4f63-96fe-1c9904fbc050",
   "metadata": {},
   "source": [
    "### 1.3 Imports"
   ]
  },
  {
   "cell_type": "code",
   "execution_count": 1,
   "id": "38061c15-c053-431a-9265-536b778fe5ca",
   "metadata": {},
   "outputs": [],
   "source": [
    "# Switch path to root of project\n",
    "import os\n",
    "os.environ[\"CUDA_VISIBLE_DEVICES\"]=\"0\"\n",
    "current_folder = globals()['_dh'][0]\n",
    "os.chdir(os.path.dirname(os.path.abspath(current_folder)))\n",
    "\n",
    "%load_ext autoreload\n",
    "%autoreload 2"
   ]
  },
  {
   "cell_type": "code",
   "execution_count": 2,
   "id": "ef049477-3435-4543-bef7-acfaea93c2bd",
   "metadata": {},
   "outputs": [
    {
     "name": "stderr",
     "output_type": "stream",
     "text": [
      "/home/rouault/miniconda3/envs/nanofm/lib/python3.10/site-packages/tqdm/auto.py:21: TqdmWarning: IProgress not found. Please update jupyter and ipywidgets. See https://ipywidgets.readthedocs.io/en/stable/user_install.html\n",
      "  from .autonotebook import tqdm as notebook_tqdm\n"
     ]
    },
    {
     "data": {
      "text/plain": [
       "<torch.autograd.grad_mode.set_grad_enabled at 0x7fda50e342b0>"
      ]
     },
     "execution_count": 2,
     "metadata": {},
     "output_type": "execute_result"
    }
   ],
   "source": [
    "import re\n",
    "import torch\n",
    "from einops import rearrange\n",
    "from transformers import AutoTokenizer\n",
    "from tokenizers.processors import TemplateProcessing\n",
    "\n",
    "import matplotlib.pyplot as plt\n",
    "from mpl_toolkits.axes_grid1 import ImageGrid\n",
    "\n",
    "from nanofm.utils.checkpoint import load_model_from_safetensors\n",
    "from nanofm.data.vision.tokenized_mnist import create_tokenized_mnist_dataloader, detokenize_MNIST\n",
    "\n",
    "os.environ[\"TOKENIZERS_PARALLELISM\"] = \"false\"\n",
    "\n",
    "# The flag below controls whether to allow TF32 on matmul. This flag defaults to False in PyTorch 1.12 and later.\n",
    "torch.backends.cuda.matmul.allow_tf32 = True\n",
    "# The flag below controls whether to allow TF32 on cuDNN. This flag defaults to True.\n",
    "torch.backends.cudnn.allow_tf32 = True\n",
    "\n",
    "device = 'cuda' if torch.cuda.is_available() else 'cpu'\n",
    "torch.set_grad_enabled(False)"
   ]
  },
  {
   "cell_type": "markdown",
   "id": "77511210-e44d-4ec6-8184-984b44db9ab9",
   "metadata": {
    "tags": []
   },
   "source": [
    "---\n",
    "\n",
    "## 2 Training nanoGPT on TinyStories for text generation\n",
    "\n",
    "In this exercise, we will implement a simplified autoregressive Transformer, similar to nanoGPT. \n",
    "We will train it on [TinyStories](https://arxiv.org/abs/2305.07759), a synthetically generated dataset of somewhat simple children's book stories. That focus allows us to train relatively small models that can generate coherent text and demonstrate some basic world knowledge."
   ]
  },
  {
   "cell_type": "markdown",
   "id": "c6eba328-3fb2-4d47-a950-204d8df454ec",
   "metadata": {
    "tags": []
   },
   "source": [
    "### 2.1 Overview and tasks\n",
    "\n",
    "To implement nanoGPT, we ask you to complete the subsections below by directly filling in the missing lines in the code base.\n",
    "\n",
    "Hint: After completing the implementation of nanoGPT, in case you are still debugging, you may want to run the image generation examples in section 3 first. They are significantly faster to train and may facilitate faster debugging."
   ]
  },
  {
   "cell_type": "markdown",
   "id": "4f6074f1-639a-44f8-9e3f-067361272b70",
   "metadata": {},
   "source": [
    "#### 2.1.1 MLP layer (10 points)\n",
    "\n",
    "In `nanofm.modeling.transformer_layers.Mlp`, implement the following two-layer Perceptron:\n",
    "\n",
    "$$ \\text{MLP}(X) = \\text{GeLU}(X W_1^T + b_1) W_2^T + b_2 $$\n",
    "\n",
    "Here, $\\text{GeLU}$ denotes the [GeLU activation function](https://pytorch.org/docs/stable/generated/torch.nn.GELU.html). \n",
    "The first linear layer projects x from dimension `in_features` to `hidden_features`, while the second projects it back to `out_features`.\n",
    "Commonly, the bias terms are disabled. Make sure to take into account the `bias` argument."
   ]
  },
  {
   "cell_type": "markdown",
   "id": "a36d429c-2ae2-4b45-baad-bfc91406d6a4",
   "metadata": {},
   "source": [
    "#### 2.1.2 (Masked) self-attention layer (20 points)\n",
    "\n",
    "Next, we ask you to implement a layer that performs (optionally masked) multi-headed self-attention in `nanofm.modeling.transformer_layers.Attention`.\n",
    "\n",
    "Remember the scaled dot-product attention formula:\n",
    "$$ \\text{Attention}(Q, K, V) = \\text{softmax}_\\text{row} \\left( \\frac{Q K^T}{\\sqrt{d_k}} \\right) V $$\n",
    "\n",
    "The queries $Q$, the keys $K$, and the values $V$ are all linear projections of $X$:\n",
    "\n",
    "$$ Q(X) = X W_Q^T $$\n",
    "$$ K(X) = X W_K^T $$\n",
    "$$ V(X) = X W_V^T $$\n",
    "\n",
    "The scaling factor $d_k$ is the dimensionality of the keys $K$, i.e. `dim // num_heads`.\n",
    "\n",
    "The attention is performed on `num_heads` heads in parallel (don't use a for loop) in `head_dim = dim // num_heads`-dimensional subspaces and the results are concatenated along the feature dimension.\n",
    "\n",
    "In addition, we want to enable masking of the attention matrix, e.g. for implementing a Transformer decoder.\n",
    "For this, the forward function takes an additional `mask` argument, specifying where to zero-out the attention matrix.\n",
    "In practice, this is implemented by replacing the values of the attention matrix (pre softmax) to minus infinity wherever we don't want any attention flow."
   ]
  },
  {
   "cell_type": "markdown",
   "id": "5b7b50df-d7f8-42af-a49d-bdd1c38aa922",
   "metadata": {},
   "source": [
    "#### 2.1.3 Transformer block (10 points)\n",
    "\n",
    "Next, implement a Transformer block in `nanofm.modeling.transformer_layers.Block`. It is defined as:\n",
    "\n",
    "$$ X_a = X + \\text{Attention}(\\text{LN}(X)) $$\n",
    "$$ X_b = X_a + \\text{MLP}(\\text{LN}(X_a)) $$\n",
    "\n",
    "Here, $\\text{LN}$ denotes (two separate) LayerNorm layers.\n",
    "\n",
    "Don't forget to pass the optional mask to the self-attention layer!"
   ]
  },
  {
   "cell_type": "markdown",
   "id": "893b2a47-bd05-49b7-a2a9-858ae9e39bc6",
   "metadata": {},
   "source": [
    "#### 2.1.4 Assembling the blocks into a Transformer tunk (10 points)\n",
    "\n",
    "Now we have all the building blocks to create a Transformer trunk! \n",
    "\n",
    "In `nanofm.modeling.transformer_layers.TransformerTrunk`, create an `torch.nn.ModuleList` containing multiple Transformer blocks, and in the forward pass call them one after another.\n",
    "Again, make sure to pass the mask!"
   ]
  },
  {
   "cell_type": "markdown",
   "id": "d184c029-93e6-48a6-ae2a-2eb5421e598e",
   "metadata": {},
   "source": [
    "#### 2.1.5 Initialize nanoGPT, implement the forward function, and loss (20 points)\n",
    "\n",
    "Finally, we can use this Transformer trunk to build a nanoGPT model, which we implement in `nanofm.models.gpt.GPT`.\n",
    "It consists of a few operations executed in series. Initialize the following modules in the constructor:\n",
    "1. The discrete input tokens are embedded with an `nn.Embedding` layer. Initialize `self.input_embedding` accordingly, taking into account the vocabulary size.\n",
    "2. On top of that, we add learnable positional embeddings. Initialize `self.positional_embedding` as an `nn.Parameter` containing a randomly initialized Tensor of shape (`max_seq_len`, `dim`).\n",
    "3. This then gets passed to a Transformer trunk. Initialize `self.trunk` with the trunk you just implemented.\n",
    "4. Finally we project the trunk output through a LayerNorm and output projection that maps the elements from the Transformer dimension to the vocabulary size (as a one-hot vector per token). Initialize `self.out_norm` and `self.to_logits`. The bias term for `self.to_logits` should always be set to False.\n",
    "\n",
    "Next, let's implement the `forward_model` function:\n",
    "1. Pass the input tokens through the embedding, add the positional embedding (make sure to account for the length of the inputs!), pass it through the Transformer trunk, output normalization, and output projection.\n",
    "2. When calling the Transformer trunk, make sure to pass a causal attention mask of shape (1, L, L), where L is the sequence length. The mask is of boolean type, and wherever it is False the attention is masked-out (i.e. set to -infinity), and otherwise it is left untouched. Remember the shape of the attention mask.\n",
    "\n",
    "Finally, we need to compute the cross-entropy loss between the logits and the ground-truth targets. Please complete the `compute_ce_loss` function accordingly, and take into account the padding token. We do not want to compute a loss on those."
   ]
  },
  {
   "cell_type": "markdown",
   "id": "b0f29901-8554-4cf8-b1b2-d10e5b11cc5c",
   "metadata": {},
   "source": [
    "#### 2.1.6 Write the generation loop (20 points)\n",
    "\n",
    "Now we could theoretically train a model, but it would be of no use without a `generate` function. \n",
    "In this function you will run the model in a loop:\n",
    "1. Given the context so far, run the forward function to get the logits. \n",
    "2. Extract the logits of only the last token (it's the next token prediction we care about). \n",
    "3. Sample from the probability distribution specified by the last token logits. You can use the helper function `nanofm.utils.sampling.sample_tokens` for that. Make sure to pass the temperature, top-k, and top-p arguments.\n",
    "4. Concatenate the predicted next token with the context. This will be your new context for the next round. \n",
    "5. Respect the halting conditions: A) If you reach the maximum sequence length, stop generating. Take into account the length of the context so far! B) (Optional) In case you generate an `[EOS]` token corresponding to the end-of-sequence, stop generating early.\n",
    "6. Finally after doing the entire loop and halting, return the sequence."
   ]
  },
  {
   "cell_type": "markdown",
   "id": "029b6865-bfc5-4b6e-8bcd-5b242d582b0e",
   "metadata": {},
   "source": [
    "#### 2.1.7 Text tokenizer overview\n",
    "\n",
    "For this part, you will not need to implement anything. This is to familiarize you with the text tokenizer we use.\n",
    "A text tokenizer's job is to take any text and turn it into a sequence of integers (i.e. encode it) that we can predict autoregressively, and to then turn that original or a predicted sequence back into text.\n",
    "Text tokenizers come in many shapes and forms, but commonly they turn subwords into a unique token, using a vocabulary of a pre-determined size. \n",
    "\n",
    "For nanoGPT, we will use the [GPT-2](https://cdn.openai.com/better-language-models/language_models_are_unsupervised_multitask_learners.pdf) tokenizer. It has a base vocabulary size of 50257, but we will add three more special tokens to it:\n",
    "- `[PAD]`: Not all samples have the same length, but in order to batch them we need to equalize their lenght. The simplest way to do this is to pad the sequences up to some maximum sequence length, e.g. 256 tokens, using special `[PAD]` tokens. During training, we do not compute a loss on these tokens.\n",
    "- `[SOS]`: The first token could just be the first token of the text sequence, but we want to be able to perform *unconditional* generation, i.e. we want to be able to generate the entire sequence and not have to give it a first token to start generating. The start-of-sequence token `[SOS]` serves as that marker. We prepend it to every sequence.\n",
    "- `[EOS]`: Given that not all samples have the same length, we need a way for the model to indicate that it is done generating the next tokens. The end-of-sequence `[EOS]` token serves that purpose."
   ]
  },
  {
   "cell_type": "code",
   "execution_count": 3,
   "id": "e07c5fb8-88b2-40a8-ab50-7a7ef878e75f",
   "metadata": {},
   "outputs": [
    {
     "data": {
      "text/plain": [
       "GPT2TokenizerFast(name_or_path='gpt2', vocab_size=50257, model_max_length=1024, is_fast=True, padding_side='right', truncation_side='right', special_tokens={'bos_token': '[SOS]', 'eos_token': '[EOS]', 'unk_token': '<|endoftext|>', 'pad_token': '[PAD]'}, clean_up_tokenization_spaces=False, added_tokens_decoder={\n",
       "\t50256: AddedToken(\"<|endoftext|>\", rstrip=False, lstrip=False, single_word=False, normalized=True, special=True),\n",
       "\t50257: AddedToken(\"[PAD]\", rstrip=False, lstrip=False, single_word=False, normalized=False, special=True),\n",
       "\t50258: AddedToken(\"[SOS]\", rstrip=False, lstrip=False, single_word=False, normalized=False, special=True),\n",
       "\t50259: AddedToken(\"[EOS]\", rstrip=False, lstrip=False, single_word=False, normalized=False, special=True),\n",
       "}\n",
       ")"
      ]
     },
     "execution_count": 3,
     "metadata": {},
     "output_type": "execute_result"
    }
   ],
   "source": [
    "# Load the GPT-2 tokenizer\n",
    "tokenizer = AutoTokenizer.from_pretrained(\"gpt2\", trust_remote_code=True)\n",
    "\n",
    "# Add padding, start-of-sequence, and end-of-sequence tokens\n",
    "tokenizer.add_special_tokens({'pad_token': '[PAD]'})\n",
    "tokenizer.add_special_tokens({\n",
    "    'bos_token': '[SOS]',\n",
    "    'eos_token': '[EOS]',\n",
    "})\n",
    "tokenizer._tokenizer.post_processor = TemplateProcessing(\n",
    "    single=\"[SOS] $A [EOS]\",\n",
    "    special_tokens=[('[EOS]', tokenizer.eos_token_id), ('[SOS]', tokenizer.bos_token_id)],\n",
    ")\n",
    "tokenizer"
   ]
  },
  {
   "cell_type": "markdown",
   "id": "de38d476-9aad-42b1-a28b-8b486372e6de",
   "metadata": {},
   "source": [
    "Let's see what happens when we encode sentences of variable length. Remember, we wrap the texts with an `[SOS]` (index 50258) and `[EOS]` (index 50259) token, and pad to the maximum sequence length with a `[PAD]` (index 50257) token. If a text is longer than the specified maximum sequence length, we truncate it."
   ]
  },
  {
   "cell_type": "code",
   "execution_count": 4,
   "id": "c94471d2-edca-4ed2-8009-eee809689df9",
   "metadata": {},
   "outputs": [
    {
     "data": {
      "text/plain": [
       "tensor([[50258,  1212,   318,   281,  1672,    13, 50259, 50257, 50257, 50257],\n",
       "        [50258,  7454,  2402,   257,   640,   612,   373,   257,  2068, 50259]])"
      ]
     },
     "execution_count": 4,
     "metadata": {},
     "output_type": "execute_result"
    }
   ],
   "source": [
    "texts = [\n",
    "    'This is an example.',\n",
    "    'Once upon a time there was a quick brown fox.',\n",
    "]\n",
    "tokens = tokenizer(texts, max_length=10, padding='max_length', truncation=True, return_tensors='pt')['input_ids']\n",
    "tokens"
   ]
  },
  {
   "cell_type": "markdown",
   "id": "de2644e6-cf9d-44af-8cdc-ae6adc4edf61",
   "metadata": {},
   "source": [
    "We can use the same tokenizer to turn the sequences back into text:"
   ]
  },
  {
   "cell_type": "code",
   "execution_count": 5,
   "id": "468482ba-b525-416d-8f4f-6335240f837b",
   "metadata": {},
   "outputs": [
    {
     "name": "stdout",
     "output_type": "stream",
     "text": [
      "[SOS]This is an example.[EOS][PAD][PAD][PAD]\n",
      "[SOS]Once upon a time there was a quick[EOS]\n"
     ]
    }
   ],
   "source": [
    "for token_seq in tokens:\n",
    "    print(tokenizer.decode(token_seq))"
   ]
  },
  {
   "cell_type": "markdown",
   "id": "90a75525-3ab5-4d39-99ad-99d5b6105ea0",
   "metadata": {},
   "source": [
    "Let's define a helper function to filter out the special tokens:"
   ]
  },
  {
   "cell_type": "code",
   "execution_count": 6,
   "id": "a47251f7-7c89-4c6d-b827-2ee4f9c31bf0",
   "metadata": {},
   "outputs": [],
   "source": [
    "def token_ids_to_text(token_ids, text_tokenizer):\n",
    "    \"\"\" Helper function to turn token sequences back to well-formatted text. \"\"\"\n",
    "    decoded = text_tokenizer.decode(token_ids)\n",
    "    # Remove [SOS], [EOS], and [PAD] tokens along with surrounding horizontal whitespace only.\n",
    "    decoded = re.sub(r'[ \\t]*\\[(SOS|EOS|PAD)\\][ \\t]*', ' ', decoded)\n",
    "    # Collapse extra horizontal spaces in each line without touching newline characters.\n",
    "    decoded = '\\n'.join([re.sub(r'[ \\t]+', ' ', line).strip() for line in decoded.splitlines()])\n",
    "    return decoded"
   ]
  },
  {
   "cell_type": "code",
   "execution_count": 7,
   "id": "513e5fce-30e9-441f-9343-519c95a5bada",
   "metadata": {},
   "outputs": [
    {
     "name": "stdout",
     "output_type": "stream",
     "text": [
      "This is an example.\n",
      "Once upon a time there was a quick\n"
     ]
    }
   ],
   "source": [
    "for token_seq in tokens:\n",
    "    print(token_ids_to_text(token_seq, text_tokenizer=tokenizer))"
   ]
  },
  {
   "cell_type": "markdown",
   "id": "6d99c198-7515-43fc-9c26-3f08388ab392",
   "metadata": {},
   "source": [
    "### 2.2 Training the model\n",
    "\n",
    "We defined a training config for you in: `cfgs/nanoGPT/tinystories_d8w512.yaml`. Please familiarize yourself with all parts.\n",
    "Please don't forget to replace the Weights & Bias entity with your own.\n",
    "\n",
    "On a 2xV100 node, you can start the training like:\n",
    "```\n",
    "OMP_NUM_THREADS=1 torchrun --nproc_per_node=2 run_training.py --config cfgs/nanoGPT/tinystories_d8w512.yaml\n",
    "```\n",
    "\n",
    "During training the script saves intermediate checkpoints at regular intervals. In case your training crashes, the training automatically resumes from that last checkpoint.\n",
    "In case you don't want to resume training and instead start over from scratch, please either delete the checkpoint directory of that run (e.g. in `./outputs/nanoGPT/tinystories_d8w512/`) or rename it.\n",
    "\n",
    "This training should take over one hour. You should reach a final validation loss around 1.3, and your loss curves should look something like the following:\n",
    "\n",
    "<img src=\"./assets/nanoGPT_tinystories.png\" alt=\"nanoGPT TinyStories loss curves\" width=\"1000\">"
   ]
  },
  {
   "cell_type": "markdown",
   "id": "8c94b2be-6984-4c5d-8f70-e0822b153b01",
   "metadata": {},
   "source": [
    "### 2.3 Show your loss curves (10 points)\n",
    "\n",
    "Screenshot your loss curves and show them here. Add the image to the `assets` directory and change the path in the markdown. You will get 10 points for reasonable loss curves (similar to the sample loss curves above).\n",
    "\n",
    "<img src=\"./assets/loss_curves_nanoGPT_tinystories.png\" alt=\"nanoGPT TinyStories loss curves\" width=\"1000\">"
   ]
  },
  {
   "cell_type": "markdown",
   "id": "99fbab3a-bb76-4e5d-bc78-b74bf6063dd7",
   "metadata": {},
   "source": [
    "### 2.4 Evaluating the model (10 points)\n",
    "\n",
    "After you completed the training, load the model with the following cell. You may need to adjust the path if you changed it.\n",
    "You will get 10 points if the outputs look reasonable (similar to the sample outputs provided below).\n",
    "\n",
    "Hint: You can also load intermediate safetensors checkpoints to check the progress during training."
   ]
  },
  {
   "cell_type": "code",
   "execution_count": 8,
   "id": "ffe67e53-b62f-4664-98b3-e6a8471c82e6",
   "metadata": {},
   "outputs": [
    {
     "name": "stdout",
     "output_type": "stream",
     "text": [
      "25.174528M parameters\n"
     ]
    }
   ],
   "source": [
    "ckpt_path = './outputs/nanoGPT/tinystories_d8w512/checkpoint-final.safetensors'\n",
    "model = load_model_from_safetensors(ckpt_path, device=device)\n",
    "print(f'{model.get_num_params() / 10**6}M parameters')"
   ]
  },
  {
   "cell_type": "markdown",
   "id": "78151077-58e0-4499-85f1-92122d6ffd25",
   "metadata": {},
   "source": [
    "Let's generate some random (unconditional) stories!"
   ]
  },
  {
   "cell_type": "code",
   "execution_count": 9,
   "id": "d40c05a6-fd08-4fe9-bdbe-86f61a1d6c5a",
   "metadata": {},
   "outputs": [
    {
     "name": "stdout",
     "output_type": "stream",
     "text": [
      "Once upon a time there was a young girl named Ann. She was always very curious and liked to explore different places! One day she decided to wander in a big peaceful town. She had never seen anything so peaceful there, and she went on her way.\n",
      "\n",
      "The group of kids started to see a little puppy. Ann smiled, pleased to make a new friend. She urged the boy to his ball and they went to the park together. Ann was so excited to learn, she quickly kicked the ball.\n",
      "\n",
      "As they played, the other kids began to get a little too fun and soon, the toys started to vanish under the ground. Ann was confused, but then she yelled out a frightened 'No one!' to her surprise. The children's melted away as a gust of wind blew gently.\n",
      "\n",
      "Ann started to cry as the dogs ran away, very scared now. She never went near that peaceful town again.\n",
      "\n",
      "--------------------------------------------------\n",
      "\n",
      "Lily and Ben like to play in the park. They have a ball and a kite. They run and laugh and throw the ball. They are very happy.\n",
      "\n",
      "But then they see dark clouds in the sky. It is gray and stormy. They hear thunder and loud noises. They are scared. It is a storm.\n",
      "\n",
      "\"Let's go home, kids. It is scary.\" Mommy says. She helps them and they hold each other. They pack their blanket and a cup of water.\n",
      "\n",
      "They hold hands and run to Mommy. They hug her and sing a joke. They wait for the storm to go away.\n",
      "\n",
      "The storm breaks. The sun is bright and warm. It makes a soft noise. Lily and Ben hug each other and say, \"We are safe now. We love you.\" Mommy smiles. She hugs them back.\n",
      "\n",
      "They put the blanket on the car. Mommy drives away. She looks for a yellow taxi. She hopes the taxi will stop at home. She hopes it will not hurt or blow away the sun.\n",
      "\n",
      "Lily and Ben are happy again. They are safe. They like to play in the park. They like the park.\n",
      "\n",
      "--------------------------------------------------\n",
      "\n",
      "Once upon a time there was a little girl named Sally. She was three years old and had always wanted to learn a lot of useful things. One day she was playing in the garden when she saw an animal. She quickly ran over to it and said to the animal, \"Hello, who are you?\"\n",
      "\n",
      "The animal smiled and hoisted its long blonde fur. It counted her fingers and then said, \"My name is Tyler. What are you up to?\"\n",
      "\n",
      "Sally replied, \"I am learning about nature, rock, and zigzags.\" She then gave Tyler a big hug and put his arm around him.\n",
      "\n",
      "An hour later, Tyler was exploring the garden and found many amazing things. He discovered so much that he became a pro at painting! He hung a brush, a bucket and even a little feather herself.\n",
      "\n",
      "Sally felt so satisfied with her lessons, she thanked Tyler theamanuran and ran inside to show her parents what she had learned. From then on, it was her best magic referring to the park!\n",
      "\n",
      "--------------------------------------------------\n",
      "\n",
      "Sam and Lily are twins. They like to play in their room. They have many toys and books. But their room is very messy. Toys and books are everywhere. Sam and Lily worked hard on their work. They sigh.\n",
      "\n",
      "\"Can we put our things in the right spot?\" Sam asks.\n",
      "\n",
      "\"Sure, we can do it. But we need to be careful. Mommy is coming soon,\" Lily says.\n",
      "\n",
      "Tim nods. He wants to finish his work. He marks a hole in the drawer of his cloth. He puts the hole in the cloth. Sam knocks on it straight away.\n",
      "\n",
      "\"I did it, sorting!\" he shouts.\n",
      "\n",
      "\"Good job, you are a big helper!\" Lily says.\n",
      "\n",
      "They run around the room, making a mess. They do not share anything. They are having fun.\n",
      "\n",
      "Mommy comes in. She sees the hole in the paper and the cloth. She is surprised.\n",
      "\n",
      "\"Sam, Lily, what did you do?\" she asks.\n",
      "\n",
      "\"We made a messy house!\" Sam says.\n",
      "\n",
      "Mommy shakes her head. She picks up the sponge and the cloth. She washed the cloth away. She looks at Sam and Lily.\n",
      "\n",
      "--------------------------------------------------\n",
      "\n",
      "Once upon a time, there was a happy girl named Lily. She had a pretty veil that she loved to wear. One day, she lost it while playing outside in the rain. Lily was sad and didn't know what to do.\n",
      "\n",
      "She waited and waited, but the veil was too thick for her to hold. She didn't know what to do. She started to feel anxious because she didn't know what to do. Then, she remembered that her mom would teach her to spell her name so she could.\"\n",
      "\n",
      "Lily tried her best to spell her name in nine, but it didn't work. She felt more impatient and wanted to watch the rain. But she knew she didn't. ended up getting wet and cold. In the end, Lily's veil stored away and she was happy again.\n",
      "\n",
      "--------------------------------------------------\n",
      "\n"
     ]
    }
   ],
   "source": [
    "for _ in range(5):\n",
    "    output = model.generate(context=[tokenizer.bos_token_id], temp=1.0, top_p=0.0, top_k=0.0, eos_idx=tokenizer.eos_token_id)[0]\n",
    "    print(token_ids_to_text(output, text_tokenizer=tokenizer))\n",
    "    print('\\n' + '-'*50 + '\\n')"
   ]
  },
  {
   "cell_type": "markdown",
   "id": "d024a84c-7727-4c17-acb5-4b415531726c",
   "metadata": {},
   "source": [
    "We don't have to generate the stories in a completely unconditional way. Let's try to probe the model and see if it learned some world knowledge. \n",
    "If we probe the model with the phrase `Daisy was hungry, so she`, we should expect a continuation talking about her getting food. "
   ]
  },
  {
   "cell_type": "code",
   "execution_count": 10,
   "id": "bf89eced-7cfd-42ef-a0d9-26758f7c543f",
   "metadata": {},
   "outputs": [
    {
     "name": "stdout",
     "output_type": "stream",
     "text": [
      "Daisy was hungry, so she asked her mom for some fruit. Her mom said she could have some fruit. Daisy was so excited as she bounced the yellow fruit off the vine. She leaned back and grabbed the fruit. It was so juicy and sweet. She took a big bite and smiled. She was so happy she had the favorite fruit. She ate it all up and said, \"That was delicious!\" She pretended to have some more energy and leaned so hard but still ate the whole fruit. She found that the fruit tasted really sweet and yummy. Daisy liked it herself more than she was left out in the sun.\n",
      "\n",
      "--------------------------------------------------\n",
      "\n",
      "Daisy was hungry, so she took a bite of her lip. It was bitter and she wrinkled her nose. She tried to drink some water, but it made her face feel itchy.\n",
      "\n",
      "\"Mum, why are you so angry?\" she asked.\n",
      "\n",
      "Her mum answered, \"I don't like it when you drink water. It's bitter!\"\n",
      "\n",
      "\"Zero out sometimes and try new foods,\" said Daisy's mum, smiling kindly.\n",
      "\n",
      "Daisy was still sad, but she waited until she was feeling better. After a while, she drank some water and felt better.\n",
      "\n",
      "\"See,\" said her mum, as she hugged her tight. \"I told you before. That was the right, and now you know I'm comfortable with my lip.\"\n",
      "\n",
      "--------------------------------------------------\n",
      "\n",
      "Daisy was hungry, so she went out to find a snack. She found an apple and cut it into two pieces. She was so excited! She laughed and said, â€œI feel so happy!â€\n",
      "\n",
      "But then she didnâ€™t feel sleepy. She took a pair of scissors and cut the apple into smaller pieces. She put the pieces into two small pieces, and then she put her face over the apple and started feeling better.\n",
      "\n",
      "When she was done, she decided to be more careful and not cut her eyes while eating. She sat down and ate her apple pieces, happy at the same time.\n",
      "\n",
      "The moral of the story is that itâ€™s important to take care of yourself. Don't be too careless. One should have been more modest and careful when cutting some apples, instead of making them worse.\n",
      "\n",
      "--------------------------------------------------\n",
      "\n",
      "Daisy was hungry, so she ran to find something to eat. She looked in the kitchen and finally she found a piece of chocolate lying on the stove. She quickly grabbed it and rubbed it, making a funny sound.\n",
      "\n",
      "\"What are you doing, Daisy?\" asked her mom, with a friendly smile.\n",
      "\n",
      "\"I'm making a yummy chocolate cake, Mommy! Can I have some?\" Daisy said with a pout.\n",
      "\n",
      "\"Yes, you can, Daisy. You can tell me what you want,\" Mommy said.\n",
      "\n",
      "Daisy carefully patted the floor and asked, \"Can I make tea with this piece of chocolate chips?\"\n",
      "\n",
      "\"Of course, the baker might like it,\" Mommy said with a smile, and gave Daisy a spoonful.\n",
      "\n",
      "Daisy waved goodbye to her mom and ran to the kitchen. She worked both ways and when she was finished, she shared her yummy chocolate Smiling with the whole bowl.\n",
      "\n",
      "\"That looks delicious!\" Daisy said and smiled. She thanked her mom for helping her make the tasty treat.\n",
      "\n",
      "--------------------------------------------------\n",
      "\n",
      "Daisy was hungry, so she went to get a pastry from the tall bakery down the street. But when she arrived, the bakery was empty. Wanda doors had come in instead home, and she had to go and get something else!\n",
      "\n",
      "When Daisy arrived, the baker asked, \"Do you know where I can get some pastry?\"\n",
      "\n",
      "Daisy smiled and said, \"Yes, I will follow you and see if you have somewhere you can help me.\"\n",
      "\n",
      "The baker smiled and said, \"That is a great idea!\"\n",
      "\n",
      "So, Daisy and the baker made their way to the bakery. When they arrived, they saw every bakery was empty, but they still had fun. Daisy smiled at the baker and thanked him for the tasty pastry!\n",
      "\n",
      "The baker smiled back and said, \"You have been welcome here last week. Now, let's enjoy some together!\"\n",
      "\n",
      "Daisy and the baker laughed and waved goodbye. Daisy was no longer hungry!\n",
      "\n",
      "--------------------------------------------------\n",
      "\n"
     ]
    }
   ],
   "source": [
    "context = tokenizer.encode('Daisy was hungry, so she')[:-1] # Encode and discard automatically added [EOS] token\n",
    "\n",
    "for _ in range(5):\n",
    "    output = model.generate(context=context, temp=1.0, top_p=0.0, top_k=0.0, eos_idx=tokenizer.eos_token_id)[0]\n",
    "    print(token_ids_to_text(output, text_tokenizer=tokenizer))\n",
    "    print('\\n' + '-'*50 + '\\n')"
   ]
  },
  {
   "cell_type": "markdown",
   "id": "cb687d48-e5ad-48a2-9e5b-e01099505d61",
   "metadata": {},
   "source": [
    "### 2.5 Open-ended questions (5 points each)\n",
    "\n",
    "Please answer the following questions. You may use additional cells to demonstrate your answers if necessary.\n",
    "\n",
    "- Q2.1: What effect does the temperature have on the generations?\n",
    "    - A2.1: As we can see below, the temperature seems to correlate with how much the generation will deviate from the original topic, how originial it is. Indeed, a higher temperature corresponds to allowing to sample from less probable tokens. This increased randomness introduces more creativity and variability in the output, making the model more likely to generate novel ideas or diverge from the main theme. On the contrary, a lower temperature leads to less creativity, and seems to produce outputs that are more repetitive.\n"
   ]
  },
  {
   "cell_type": "code",
   "execution_count": 11,
   "id": "66fdda5d-7279-4701-8a73-f5070fe3459c",
   "metadata": {},
   "outputs": [
    {
     "name": "stdout",
     "output_type": "stream",
     "text": [
      "Daisy was hungry, so she went to the kitchen to get something to eat. She opened the cupboard and saw a big, round thing. It was a big, round thing. She was so excited and she wanted to eat it.\n",
      "\n",
      "Daisy took the big, round thing out of the cupboard and put it on the table. She was so happy and she ate it all up. It was so yummy!\n",
      "\n",
      "After she finished eating, Daisy put the big, round thing back in the cupboard. She was so happy that she had something to eat. She smiled and went off to play.\n",
      "\n",
      "--------------------------------------------------\n",
      "\n",
      "Daisy was hungry, so she went to the kitchen to get something to eat. She opened the cupboard and saw a big, juicy apple. She took a big bite and it was so delicious! She ate the whole thing and felt so happy.\n",
      "\n",
      "After she finished the apple, Daisy wanted to play with her toys. She went to her bedroom and found her teddy bear. She hugged him and said, \"I love you!\"\n",
      "\n",
      "Then Daisy went to her toy box and found her favorite doll. She hugged the doll and said, \"I love you!\" Then she went to find her doll and gave her a big hug.\n",
      "\n",
      "Daisy was so happy to have a new friend. She said, \"I love you!\" Then she went to her bedroom and played with her toys. She was so happy to have a new friend.\n",
      "\n",
      "--------------------------------------------------\n",
      "\n",
      "Daisy was hungry, so she went to the kitchen to get a snack. She saw a glass of milk on the table and she was excited. She grabbed it and started to drink it.\n",
      "\n",
      "Suddenly, Daisy saw a cat outside the window. She wanted to go outside and play with the cat. She shook her head and said, \"No, I want to play with the cat!\"\n",
      "\n",
      "But the cat just meowed and ran away. Daisy was sad. She wanted to play with the cat so she ran after it. She ran and ran until she was tired.\n",
      "\n",
      "Finally, Daisy stopped and looked at the window. She could see the cat was still there. She smiled and said, \"I'm sorry I was so hungry.\"\n",
      "\n",
      "The cat meowed again and Daisy said, \"It's okay, I'm still hungry.\" She gave the cat a big hug and they both went inside to eat their snacks.\n",
      "\n",
      "--------------------------------------------------\n",
      "\n",
      "Daisy was hungry, so she asked her mom for a sandwich. Her mom smiled and gave Daisy a big piece of cheese. Daisy ate the cheese and felt happy.\n",
      "\n",
      "After she finished, Daisy asked \"Mommy, can I have a hug?\" Her mom said, \"Yes, that sounds like a great idea.\"\n",
      "\n",
      "So Daisy hugged her mom and said, \"Thank you, Mommy!\" Her mom hugged her back and said, \"You're welcome, Daisy.\"\n",
      "\n",
      "--------------------------------------------------\n",
      "\n",
      "Daisy was hungry, so she opened her lunch. It was full of delicious pepper. She was so excited!\n",
      "\n",
      "Daisy couldn't wait to eat the pepper. She quickly grabbed a handful and started to eat it.\n",
      "\n",
      "Suddenly, Daisy felt something squishy under her hand. She looked down and saw it was her toy car. She quickly shut the door, and ran off to find something else to play with.\n",
      "\n",
      "Later that day, Daisy found a toy car, marbles, and stuffed animals. She was so happy to have found them and she could play with them on her teddies.\n",
      "\n",
      "At the end of the day, Daisy put all her new toys away, and made sure to remember the way she felt so hungry. She closed her lunchbox, and had the best day ever.\n",
      "\n",
      "--------------------------------------------------\n",
      "\n"
     ]
    }
   ],
   "source": [
    "context = tokenizer.encode('Daisy was hungry, so she')[:-1] # Encode and discard automatically added [EOS] token\n",
    "\n",
    "temp_lists = [0.1, 0.3, 0.5, 0.7, 0.9]\n",
    "\n",
    "for i in range(5):\n",
    "    output = model.generate(context=context, temp=temp_lists[i], top_p=0.0, top_k=0.0, eos_idx=tokenizer.eos_token_id)[0]\n",
    "    print(token_ids_to_text(output, text_tokenizer=tokenizer))\n",
    "    print('\\n' + '-'*50 + '\\n')"
   ]
  },
  {
   "cell_type": "markdown",
   "id": "7d5120eb",
   "metadata": {},
   "source": [
    "- Q2.2: What about the top_k and top_p parameters?\n",
    "    - A2.2: Both the top_k and top_p parameters limit the number of tokens the model can sample from during generation. Again, the possibility to sample from more words allows the model to be more creative. If these parameters are 0, it means that the model is not constrained in its generation, so it should be maximally creative with respect to these parameters. From 0.2 to 0.9 (and even 0.0 which corresponds to 1.0), the stories become more and more unpredictable."
   ]
  },
  {
   "cell_type": "code",
   "execution_count": 12,
   "id": "8ab86997-6ce8-4cb7-8535-8fa53dc630dc",
   "metadata": {},
   "outputs": [
    {
     "name": "stdout",
     "output_type": "stream",
     "text": [
      "Daisy was hungry, so she decided to go for a jog. She put on her shoes and ran outside. Daisy marched around the park, taking in all the sights. When she got to the end, she stopped by a tree that had something in it. Inside the tree there was a delicious apple. Daisy was so excited that she jumped up and gave the apple a big hug. She took a big bite and thought it was the sweetest thing ever.\n",
      "\n",
      "After eating the apple, Daisy and her dad walked back home. That night, Daisy was so tired that she yawned a big yawn. She tucked herself into bed and dreamed about her next jog running.\n",
      "\n",
      "The next morning, Daisy woke up early and ran outside to the park. With a smile on her face, Daisy headed around the park again. She was so tired that she had to nap after she had her night! She learned an important lesson: if you keep track of doing something and never give a chance, you can have a successful jog.\n",
      "\n",
      "--------------------------------------------------\n",
      "\n",
      "Daisy was hungry, so she went to the kitchen to get something to eat. She opened the cupboard and saw a big, red apple. She took a bite and it was so delicious! She ate the whole thing and felt so happy.\n",
      "\n",
      "Next, Daisy went to the living room. She saw her mom and dad sitting on the couch. Daisy wanted to play with them, so she ran to them. She said, \"Hi, can I have a snack?\" Her mom and dad smiled and said, \"Of course!\"\n",
      "\n",
      "Daisy was so excited. She ate her apple and it was so yummy. She said, \"Thank you, Mom and Dad!\" Her mom and dad said, \"You're welcome, Daisy!\" Daisy smiled and said, \"I love you!\"\n",
      "\n",
      "--------------------------------------------------\n",
      "\n",
      "Daisy was hungry, so she went to the kitchen to find something to eat. She saw a jar of jam on the counter and knew that was what she wanted. She took the jar and opened it. She was so excited to see what was inside.\n",
      "\n",
      "She carefully put the jar of jam on the counter and opened it. Inside, there was a jar of jam. Daisy smiled and grabbed a spoon. She was so happy to have the jam.\n",
      "\n",
      "She started to eat the jam. It was sweet and yummy. She ate it all up. After she finished, she put the jar back on the counter. She was so full that she could hardly move.\n",
      "\n",
      "Daisy smiled and said, \"That was delicious!\" She was so happy that she had found the jam. She finished the jar and put it back on the counter. She went back to the kitchen and ate some more jam. It was delicious!\n",
      "\n",
      "--------------------------------------------------\n",
      "\n",
      "Daisy was hungry, so she went outside to look for something to eat. Suddenly, she saw a big truck and ran over to take a look. The truck was so big, she could hardly believe her eyes. She could smell something delicious coming from the truck.\n",
      "\n",
      "The truck driver saw Daisy and waved at her. Daisy waved back and smiled. She felt so happy to be able to talk to the truck driver.\n",
      "\n",
      "The truck driver asked Daisy if she wanted to have a picnic. Daisy was so excited, she jumped up and down. The driver was so kind, he let Daisy sit in the driver's seat.\n",
      "\n",
      "The driver took out some yummy snacks from his truck and they ate together. Daisy ate so much that she was full and very happy. She thanked the driver for the delicious picnic and waved goodbye as he drove away.\n",
      "\n",
      "--------------------------------------------------\n",
      "\n",
      "Daisy was hungry, so she decided to go and find a treat. She went to the garden and saw a basket. It looked like a sweet treat! Daisy thought it would be nice to pick the basket, so she picked it up.\n",
      "\n",
      "When Daisy picked up the basket, she saw it was full of juicy, ripe apples. She was so happy, she had an idea! She decided to share the apples with her mom.\n",
      "\n",
      "Daisy and her mom enjoyed the apples together. When they were finished, they had a smile on their faces. They both agreed that the apples were very tasty. Daisy was so happy with her choice!\n",
      "\n",
      "--------------------------------------------------\n",
      "\n"
     ]
    }
   ],
   "source": [
    "context = tokenizer.encode('Daisy was hungry, so she')[:-1] # Encode and discard automatically added [EOS] token\n",
    "\n",
    "top_p_lists = [0.0, 0.2, 0.5, 0.7, 0.9]\n",
    "\n",
    "for i in range(5):\n",
    "    output = model.generate(context=context, temp=1.0, top_p=top_p_lists[i], top_k=0.0, eos_idx=tokenizer.eos_token_id)[0]\n",
    "    print(token_ids_to_text(output, text_tokenizer=tokenizer))\n",
    "    print('\\n' + '-'*50 + '\\n')"
   ]
  },
  {
   "cell_type": "code",
   "execution_count": 13,
   "id": "65e9ce14-91f5-436f-ae64-8916bb0c73c3",
   "metadata": {},
   "outputs": [
    {
     "name": "stdout",
     "output_type": "stream",
     "text": [
      "Daisy was hungry, so she went to the kitchen. It had gone a long time to get something ready. She opened the silver drawer and found a toy car inside. She was amazed. She tried to play with it, seeing how it moved, when she took a turn with the necklace. She loved it!\n",
      "\n",
      "Daisy wanted to play with the car, but she didn't know how. Suddenly, a gentle voice said \"Don't be fearful, Daisy\". Daisy looked to see who was making the most of it was her mother's. \"It's okay, Mommy,\" Daisy said. \"It's just a tool.\"\n",
      "\n",
      "At first, Daisy was still not sure what the tool was, but then she remembered all the different things in the drawer. She started counting, \"One, two, threeushes, three, four...\" Daisy made faster and when she brushed the dust away, she could't see nothing! She hugged the useful tool and thanked her mother.\n",
      "\n",
      "From then on, whenever Daisy wanted something, Mommy always made her some toast. Although things were too small for her, she learned a lot about using the tools in the drawer.\n",
      "\n",
      "--------------------------------------------------\n",
      "\n",
      "Daisy was hungry, so she went all around looking for something to eat. She found a perfect sandwich and was so excited. She picked it up and opened it, but it wasn't quite perfect yet.\n",
      "\n",
      "'Let's ok', she said and went outside. Her heart was pounding, so she walked to the park, held out the sandwich in front of her.\n",
      "\n",
      "At the park, Daisy sat down, and started eating. After she finished, she was full and ready to take a nap. She lay back down on the grass and closed her eyes.\n",
      "\n",
      "She was sure she was thinking of the perfect sandwich. She felt so excited and ready to take a nap.\n",
      "\n",
      "When Daisy awoke, she went straight to the park and lay down on the grass. She closed her eyes and took a deep breath. She forgot all about the sandwich, and was soon fast asleep.\n",
      "\n",
      "--------------------------------------------------\n",
      "\n",
      "Daisy was hungry, so she ran to the kitchen to get something to eat. She saw a oyster in the sink. She picked it up and opened it, feeling excited.\n",
      "\n",
      "\"Mmmmmm,\" she exclaimed, \"Who's there?\"\n",
      "\n",
      "Just then, her mom came into the kitchen.\n",
      "\n",
      "\"That's a funny man,\" her Mom said, smiling.\n",
      "\n",
      "\"Why is he looking out of the sink?\" Daisy asked.\n",
      "\n",
      "\"He's diving that way post,\" her Mom replied.\n",
      "\n",
      "Daisy thought for a minute. Then, she whispered something in the sink. \"What does he have to be doing? This is a sea skull,\" she said, her face filled with wonder.\n",
      "\n",
      "Her Mom laughed. She took another flashlight and said, \"He must have been inside the sink for so long!\"\n",
      "\n",
      "--------------------------------------------------\n",
      "\n",
      "Daisy was hungry, so she went out to explore. She set off to the airport and was walking around. She noticed that the gate to the airport fit around the sign. She was curious and wanted to know what was waiting for her.\n",
      "\n",
      "As Daisy was walking around the gate, she spotted an animal in the corner. It was fast, but it was very Janey, so she knew that she had to be patient. She slowly walked towards the animal, careful not to be scared.\n",
      "\n",
      "When Daisy got closer to the animal, she heard a loud noise. It was a wild animal! Daisy was scared, so she tried to run away, but the animal grabbed her and took her away. Daisy was feeling scared and tried to escape, but it was too late.\n",
      "\n",
      "In the end, Daisy was never able to be free by the wild animal. It had taken her away forever.\n",
      "\n",
      "--------------------------------------------------\n",
      "\n",
      "Daisy was hungry, so she went to find aMrs. towels. When she arrived, Daisy saw Mrs. Jones was busy with her job working, so she was excited for Mrs. Jones who recommended a yummy treat. Mrs. Jones opened one of her boxes, and suddenly, she had split them all and was too busy.\n",
      "\n",
      "Daisy was very upset. She didn't understand why Mrs. Jones was so sad and this made her angry. She spoke to her \"That looks too bad, I just wanted one!\"\n",
      "\n",
      "Mrs. Jones looked guilty. She gave the envelope, and Daisy was happy to find a solution. She asked Mrs. Jones if she could have one of her Holders and a cookie. Mrs. Jones smiled, and said \"Yes, of course.\"\n",
      "\n",
      "Daisy took a cookie and enjoyed it. Mrs. Jones was glad they had made her feel much better, and she thanked them both.\n",
      "\n",
      "And from then on, whenever Daisy ate something, Mrs. Jones would smile and say to her. Although Daisy was still hungry, she knew Mrs. Jones would get a yummy treat instead of opening any in the moment!\n",
      "\n",
      "--------------------------------------------------\n",
      "\n"
     ]
    }
   ],
   "source": [
    "context = tokenizer.encode('Daisy was hungry, so she')[:-1] # Encode and discard automatically added [EOS] token\n",
    "\n",
    "top_k_lists = [1.0, 3.0, 5.0, 10.0, 15.0]\n",
    "\n",
    "for i in range(5):\n",
    "    output = model.generate(context=context, temp=1.0, top_p=0.0, top_k=top_k_lists[i], eos_idx=tokenizer.eos_token_id)[0]\n",
    "    print(token_ids_to_text(output, text_tokenizer=tokenizer))\n",
    "    print('\\n' + '-'*50 + '\\n')"
   ]
  },
  {
   "cell_type": "markdown",
   "id": "83f71c04",
   "metadata": {},
   "source": [
    "- Q2.3: Sometimes the generations of this model are not very good. What could we do to improve it further?\n",
    "    - A2.3: \n",
    "    \n",
    "To make the generations of this model better, we could:\n",
    "- Increase Model Size: Larger models generally perform better as they have more parameters and can capture more complex patterns in the data. This might lead to more fluent and coherent text generation.\n",
    "\n",
    "- Train on More Data: Training on a larger and more diverse dataset allows the model to learn from a wider range of patterns and contexts, improving its ability to generate more accurate and relevant responses.\n",
    "\n",
    "- Train for a Longer Time: As the loss is still decreasing at the end of training, it suggests that the model may not have fully converged. Extending the training time could lead to further improvements in the model’s performance and the quality of the generated text.\n",
    "\n",
    "- Adjust Generation Method: The current model uses next-token prediction, which can sometimes lead to less diverse or coherent output. Alternative methods like beam search could improve the output. Beam search generates multiple candidate sequences and selects the one with the highest overall probability, ensuring more fluent and coherent text."
   ]
  },
  {
   "cell_type": "markdown",
   "id": "536ff7f9-f249-4412-a3f6-e60310db279a",
   "metadata": {
    "tags": []
   },
   "source": [
    "---\n",
    "\n",
    "## 3 Training nanoGPT on MNIST for conditional image generation\n",
    "\n",
    "In this part, we will train our nanoGPT on images, similar in spirit to [iGPT](https://openai.com/research/image-gpt).\n",
    "What this means is that we turn images into a sequence of discrete tokens and train a decoder-only Transformer to perform next-token-prediction.\n",
    "At inference time, we can then autoregressively generate new images from the training distribution, conditioned on the class label!\n",
    "\n",
    "If you have successfully completed the nanoGPT implementation, you can directly re-use it for this step! The only thing we change is the way we represent the data."
   ]
  },
  {
   "cell_type": "markdown",
   "id": "fe0d1209-9135-4254-929f-723b52862259",
   "metadata": {},
   "source": [
    "### 3.1 Tokenization\n",
    "\n",
    "First, we need to turn images into sequences of discrete tokens.\n",
    "\n",
    "A common way of performing tokenization of images is to train a discrete VAE, such as [VQ-GAN](https://arxiv.org/abs/2012.09841) to autoencode images through a discrete bottleneck. This is an entire research field of its own, so we will not go further into that here.\n",
    "\n",
    "Instead, we will tokenize the images in a much simpler way:\n",
    "- First, we turn the grayscale images into black and white → each image is now a sequence of 14x14 zeros and ones. In this manner, we would already have a sequence of discrete tokens we could model, but the sequence length of 14x14=192 could be shorter.\n",
    "- To reduce the sequence length further, we divide the image into 2x2 patches and turn each of the 2x2 patterns into a unique index. If we flatten each 2x2 patch into a sequence of 4 zeros and ones, we can directly interpret them as integers between 0 and 15. This reduces the sequence length by a factor of four. Much more manageable in our toy setting!\n",
    "\n",
    "While this way of tokenizing is really quite \"toy\", it is indicative of a common problem when dealing with images and transformers: naively turning images to tokens can result in very large sequence lengths.\n",
    "\n",
    "Let's plot some examples of the tokenized images. First is the original image, then we show each token, and finally we show the corresponding token sequence. \n",
    "The first token is the class-label, and the next 49 are the image tokens in raster-scan order. Their token id was shifted by 10 to account for the additional class token (we share the vocabulary with it)."
   ]
  },
  {
   "cell_type": "code",
   "execution_count": 14,
   "id": "c72a238c-283d-4d48-9f9b-dceb30e57729",
   "metadata": {},
   "outputs": [
    {
     "name": "stderr",
     "output_type": "stream",
     "text": [
      "100%|█████████████████████████████████████████████| 9.91M/9.91M [00:00<00:00, 10.3MB/s]\n",
      "100%|██████████████████████████████████████████████| 28.9k/28.9k [00:00<00:00, 303kB/s]\n",
      "100%|█████████████████████████████████████████████| 1.65M/1.65M [00:00<00:00, 2.85MB/s]\n",
      "100%|█████████████████████████████████████████████| 4.54k/4.54k [00:00<00:00, 5.40MB/s]\n",
      "/home/rouault/miniconda3/envs/nanofm/lib/python3.10/site-packages/torch/utils/data/dataloader.py:624: UserWarning: This DataLoader will create 10 worker processes in total. Our suggested max number of worker in current system is 8, which is smaller than what this DataLoader is going to create. Please be aware that excessive worker creation might get DataLoader running slow or even freeze, lower the worker number to avoid potential slowness/freeze if necessary.\n",
      "  warnings.warn(\n"
     ]
    },
    {
     "data": {
      "image/png": "[encoded data removed]",
      "text/plain": [
       "<Figure size 500x500 with 1 Axes>"
      ]
     },
     "metadata": {},
     "output_type": "display_data"
    },
    {
     "data": {
      "image/png": "[encoded data removed]",
      "text/plain": [
       "<Figure size 500x500 with 98 Axes>"
      ]
     },
     "metadata": {},
     "output_type": "display_data"
    },
    {
     "name": "stdout",
     "output_type": "stream",
     "text": [
      "Tokens: tensor([ 7, 10, 10, 10, 10, 10, 10, 10, 10, 10, 10, 10, 10, 10, 10, 10, 10, 22,\n",
      "        22, 23, 20, 10, 10, 10, 10, 10, 17, 10, 10, 10, 10, 10, 11, 18, 10, 10,\n",
      "        10, 10, 10, 16, 10, 10, 10, 10, 10, 14, 18, 10, 10, 10]) \n",
      "\n",
      "\n"
     ]
    },
    {
     "data": {
      "image/png": "[encoded data removed]",
      "text/plain": [
       "<Figure size 500x500 with 1 Axes>"
      ]
     },
     "metadata": {},
     "output_type": "display_data"
    },
    {
     "data": {
      "image/png": "[encoded data removed]",
      "text/plain": [
       "<Figure size 500x500 with 98 Axes>"
      ]
     },
     "metadata": {},
     "output_type": "display_data"
    },
    {
     "name": "stdout",
     "output_type": "stream",
     "text": [
      "Tokens: tensor([ 2, 10, 10, 10, 10, 10, 10, 10, 10, 10, 24, 23, 20, 10, 10, 10, 10, 10,\n",
      "        17, 10, 10, 10, 10, 10, 11, 20, 10, 10, 10, 10, 10, 25, 10, 10, 10, 10,\n",
      "        10, 10, 22, 22, 22, 22, 18, 10, 10, 10, 10, 10, 10, 10]) \n",
      "\n",
      "\n"
     ]
    }
   ],
   "source": [
    "data_loader = create_tokenized_mnist_dataloader(train=False, add_label_token=True, shuffle=False)\n",
    "data_dict = next(iter(data_loader))\n",
    "\n",
    "tokens = data_dict['input_ids']\n",
    "reconst = detokenize_MNIST(tokens, patch_size=2, account_for_labels=True)\n",
    "bits = rearrange(reconst, 'b (nh ph) (nw pw) -> b (nh nw) ph pw', ph=2, pw=2)\n",
    "\n",
    "for i in range(2):\n",
    "    plt.figure(figsize=(5., 5.)); plt.imshow(reconst[i], cmap='Greys'); plt.show()\n",
    "    \n",
    "    fig = plt.figure(figsize=(5., 5.))\n",
    "    grid = ImageGrid(fig, 111, nrows_ncols=(7, 7), axes_pad=0.1)\n",
    "    for j, img in enumerate(bits[i]):\n",
    "        grid[j].imshow(img, cmap='Greys', vmin=0, vmax=1)\n",
    "    plt.show()\n",
    "    \n",
    "    print('Tokens:', tokens[i], '\\n\\n')"
   ]
  },
  {
   "cell_type": "markdown",
   "id": "c5a78d4a-6df4-4d20-8627-a393ddf9634d",
   "metadata": {},
   "source": [
    "### 3.2 Training the model\n",
    "\n",
    "We defined a training config for you in: `cfgs/nanoGPT/mnist_d8w512.yaml`. Please familiarize yourself with all parts.\n",
    "Please don't forget to replace the Weights & Bias entity with your own.\n",
    "\n",
    "On a 1xV100 node, you can start the training like:\n",
    "```\n",
    "OMP_NUM_THREADS=1 torchrun --nproc_per_node=1 run_training.py --config cfgs/nanoGPT/mnist_d8w512.yaml\n",
    "```\n",
    "\n",
    "This training should be pretty fast and only take a few minutes. You should reach a final validation loss below 0.45, and your loss curves should look something like the following:\n",
    "\n",
    "<img src=\"./assets/nanoGPT_mnist.png\" alt=\"nanoGPT MNIST loss curves\" width=\"1000\">"
   ]
  },
  {
   "cell_type": "markdown",
   "id": "92233937-b07b-4313-8004-b17e058ca380",
   "metadata": {},
   "source": [
    "### 3.3 Show your loss curves (10 points)\n",
    "\n",
    "Screenshot your loss curves and show them here. Add the image to the `assets` directory and change the path in the markdown. You will get 10 points for reasonable loss curves (similar to the sample loss curves above).\n",
    "\n",
    "<img src=\"./assets/loss_curves_nanoGPT_mnist.png\" alt=\"nanoGPT MNIST loss curves\" width=\"1000\">"
   ]
  },
  {
   "cell_type": "markdown",
   "id": "5afdd8d6-a5fe-46a3-ba4e-7ee872d495ff",
   "metadata": {},
   "source": [
    "### 3.4 Evaluating the model (10 points)\n",
    "\n",
    "After you completed the training, load the model with the following cell. You may need to adjust the path if you changed it.\n",
    "You will get 10 points if the outputs look reasonable (similar to the sample outputs provided below).\n",
    "\n",
    "Hint: You can also load intermediate safetensors checkpoints to check the progress during training."
   ]
  },
  {
   "cell_type": "code",
   "execution_count": 15,
   "id": "cede1ce4-dfff-4a99-aa8d-1761f2141c5d",
   "metadata": {},
   "outputs": [
    {
     "name": "stdout",
     "output_type": "stream",
     "text": [
      "25.174528M parameters\n"
     ]
    }
   ],
   "source": [
    "ckpt_path = './outputs/nanoGPT/mnist_d8w512/checkpoint-final.safetensors'\n",
    "model = load_model_from_safetensors(ckpt_path, device=device)\n",
    "print(f'{model.get_num_params() / 10**6}M parameters')"
   ]
  },
  {
   "cell_type": "markdown",
   "id": "ca54f04f-d106-4cef-b23b-936a91854bd9",
   "metadata": {},
   "source": [
    "Let's plot some class-conditional generations! We seed the generation by providing the first token, whose index is equal to the number we'd like to generate."
   ]
  },
  {
   "cell_type": "code",
   "execution_count": 16,
   "id": "989eecc3-7c72-4a7f-a541-862ab263bc06",
   "metadata": {},
   "outputs": [
    {
     "data": {
      "text/plain": [
       "tensor([[ 5, 10, 10, 10, 10, 10, 10, 10, 10, 10, 10, 11, 13, 13, 10, 10, 10, 10,\n",
       "         24, 10, 10, 10, 10, 10, 10, 21, 10, 10, 10, 10, 10, 10, 15, 20, 10, 10,\n",
       "         10, 10, 10, 15, 18, 10, 10, 10, 10, 14, 18, 10, 10, 10]],\n",
       "       device='cuda:0')"
      ]
     },
     "execution_count": 16,
     "metadata": {},
     "output_type": "execute_result"
    }
   ],
   "source": [
    "label = 5\n",
    "output = model.generate(context=[label], temp=0.7, top_p=0.0)\n",
    "output"
   ]
  },
  {
   "cell_type": "code",
   "execution_count": 17,
   "id": "93a41606-6524-47e4-90ea-ab0b271f0504",
   "metadata": {},
   "outputs": [
    {
     "data": {
      "text/plain": [
       "<matplotlib.image.AxesImage at 0x7fda46639240>"
      ]
     },
     "execution_count": 17,
     "metadata": {},
     "output_type": "execute_result"
    },
    {
     "data": {
      "image/png": "[encoded data removed]",
      "text/plain": [
       "<Figure size 640x480 with 1 Axes>"
      ]
     },
     "metadata": {},
     "output_type": "display_data"
    }
   ],
   "source": [
    "reconst = detokenize_MNIST(output, patch_size=2, account_for_labels=True).cpu()\n",
    "plt.imshow(reconst[0], cmap='gray_r')"
   ]
  },
  {
   "cell_type": "markdown",
   "id": "f3e0c051-cf4f-42ba-ba02-716ad3d2add2",
   "metadata": {},
   "source": [
    "Let's now generate 10 random samples for all 10 classes. Most should look quite reasonable."
   ]
  },
  {
   "cell_type": "code",
   "execution_count": 18,
   "id": "0ca0356c-eb7e-4cab-b242-27525d6a3b38",
   "metadata": {},
   "outputs": [
    {
     "data": {
      "image/png": "[encoded data removed]",
      "text/plain": [
       "<Figure size 800x800 with 200 Axes>"
      ]
     },
     "metadata": {},
     "output_type": "display_data"
    }
   ],
   "source": [
    "def generate_samples(model, temp=1.0, top_p=0.0, top_k=0.0, n_samples=10):\n",
    "    fig = plt.figure(figsize=(8., 8.))\n",
    "    grid = ImageGrid(fig, 111, nrows_ncols=(10, n_samples), axes_pad=0.1)\n",
    "    for label in range(10):\n",
    "        for sample_idx in range(n_samples):\n",
    "            grid_idx = label * n_samples + sample_idx\n",
    "            output = model.generate(context=[label], temp=temp, top_p=top_p, top_k=top_k)\n",
    "            reconst = detokenize_MNIST(output, patch_size=2, account_for_labels=True).cpu()\n",
    "            grid[grid_idx].imshow(reconst[0], cmap='Greys', vmin=0, vmax=1)\n",
    "    plt.show()\n",
    "    \n",
    "generate_samples(model, temp=0.7, top_p=0.9, top_k=0.0)"
   ]
  },
  {
   "cell_type": "markdown",
   "id": "c29571b8-ebaf-4ef1-8426-4863e986fff6",
   "metadata": {},
   "source": [
    "### 3.5 Open-ended questions (5 points each)\n",
    "\n",
    "Please answer the following questions. You may use additional cells to demonstrate your answers if necessary.\n",
    "\n",
    "- Q3.1: What effect does the temperature have on the generations?\n",
    "    - A3.1: While temperature increases, the generations go further away from what we could consider as the \"template\" of a 5 in the dataset."
   ]
  },
  {
   "cell_type": "code",
   "execution_count": 21,
   "id": "01238bb7-50b6-4f07-b07e-b4d819589e85",
   "metadata": {},
   "outputs": [
    {
     "data": {
      "image/png": "[encoded data removed]",
      "text/plain": [
       "<Figure size 1500x300 with 5 Axes>"
      ]
     },
     "metadata": {},
     "output_type": "display_data"
    }
   ],
   "source": [
    "context = [label]\n",
    "\n",
    "temp_lists = [0.1, 0.3, 0.5, 0.7, 0.9]\n",
    "\n",
    "fig, axes = plt.subplots(1, 5, figsize=(15, 3))  \n",
    "\n",
    "for i, temp in enumerate(temp_lists):\n",
    "    output = model.generate(context=[label], temp=temp, top_p=0.0, top_k=0.0)\n",
    "    reconst = detokenize_MNIST(output, patch_size=2, account_for_labels=True).cpu()\n",
    "\n",
    "    ax = axes[i]\n",
    "    ax.imshow(reconst.squeeze(0), cmap='gray')  \n",
    "    ax.set_title(f\"Temp={temp}\")\n",
    "\n",
    "plt.tight_layout()\n",
    "plt.show()"
   ]
  },
  {
   "cell_type": "markdown",
   "id": "f0c6f4c3",
   "metadata": {},
   "source": [
    "- Q3.2: What about the top_k and top_p parameters?\n",
    "    - A3.2: The top_p and top_k parameters reduce the possibilities for the tokens values. For number that can be written in several ways, these parameters can be of particular importance, limiting the generation possibilities to some ways of writing the numbers."
   ]
  },
  {
   "cell_type": "code",
   "execution_count": null,
   "id": "89ce88ec-74a5-48df-b4ec-b0f879bf0270",
   "metadata": {},
   "outputs": [
    {
     "data": {
      "image/png": "[encoded data removed]",
      "text/plain": [
       "<Figure size 1500x300 with 5 Axes>"
      ]
     },
     "metadata": {},
     "output_type": "display_data"
    }
   ],
   "source": [
    "context = [label]\n",
    "\n",
    "top_p_lists = [0.0, 0.2, 0.5, 0.7, 0.9]\n",
    "\n",
    "fig, axes = plt.subplots(1, 5, figsize=(15, 3))\n",
    "\n",
    "for i, top_p in enumerate(temp_lists):\n",
    "    output = model.generate(context=[label], temp=1.0, top_p=top_p, top_k=0.0)\n",
    "    reconst = detokenize_MNIST(output, patch_size=2, account_for_labels=True).cpu()\n",
    "\n",
    "    ax = axes[i]\n",
    "    ax.imshow(reconst.squeeze(0), cmap='gray')  \n",
    "    ax.set_title(f\"top_p={top_p}\")\n",
    "\n",
    "plt.tight_layout()\n",
    "plt.show()"
   ]
  },
  {
   "cell_type": "code",
   "execution_count": null,
   "id": "22f0e4ae-2114-4a04-a61e-c0ffe5200df2",
   "metadata": {},
   "outputs": [
    {
     "data": {
      "image/png": "[encoded data removed]",
      "text/plain": [
       "<Figure size 1500x300 with 5 Axes>"
      ]
     },
     "metadata": {},
     "output_type": "display_data"
    }
   ],
   "source": [
    "context = [label]\n",
    "\n",
    "top_k_lists = [1.0, 3.0, 5.0, 10.0, 15.0]\n",
    "\n",
    "fig, axes = plt.subplots(1, 5, figsize=(15, 3))\n",
    "\n",
    "for i, top_k in enumerate(top_k_lists):\n",
    "    output = model.generate(context=[label], temp=1.0, top_p=0.0, top_k=top_k)\n",
    "    reconst = detokenize_MNIST(output, patch_size=2, account_for_labels=True).cpu()\n",
    "\n",
    "    ax = axes[i]\n",
    "    ax.imshow(reconst.squeeze(0), cmap='gray')  \n",
    "    ax.set_title(f\"Top_k={top_k}\")\n",
    "\n",
    "plt.tight_layout()\n",
    "plt.show()"
   ]
  },
  {
   "cell_type": "markdown",
   "id": "9a38f01e",
   "metadata": {},
   "source": [
    "- Q3.3: How might we extend this to text-to-image?\n",
    "    - A3.3: If we want to keep our architecture of an encoder only model, we would need to work out a way to have embeddings that can represent text and image tokens at the same time. One way to achieve this is through a joint multimodal embedding, where we use separate encoders for text and images initially, but map both to a common space where the model can learn the correlations between them."
   ]
  },
  {
   "cell_type": "markdown",
   "id": "ae8908f8-c491-4519-88c3-72da701e6933",
   "metadata": {
    "tags": []
   },
   "source": [
    "## 4 Further reading\n",
    "\n",
    "Having implemented causal-attention, as well as a decoder-only Transformer, you should not have a hard time implementing cross-attention and a full encoder-decoder Transformer to train on arbitrary sequence-to-sequence tasks.\n",
    "We will explore these topics in the next weeks.\n",
    "That said, here is some further reading material should you want to dive deeper."
   ]
  },
  {
   "cell_type": "markdown",
   "id": "5fbff92e-3808-41b0-a4fe-c3746b6acfdc",
   "metadata": {},
   "source": [
    "### 4.1 Papers & Blogs\n",
    "\n",
    "- [Attention Is All You Need, Vaswani et al. 2017 (Original Transformer paper)](https://arxiv.org/abs/1706.03762)\n",
    "- [Language Models are Unsupervised Multitask Learners, Radford et al. 2018 (GPT-2 paper)](https://cdn.openai.com/better-language-models/language_models_are_unsupervised_multitask_learners.pdf)\n",
    "- [Language Models are Few-Shot Learners, Brown et al. 2020 (GPT-3 paper)](https://arxiv.org/abs/2005.14165)\n",
    "- [PaLM: Scaling Language Modeling with Pathways, Chrowdherry et al. 2022](https://arxiv.org/abs/2204.02311)\n",
    "- [LLaMA: Open and Efficient Foundation Language Models, Touvron et al. 2023](https://arxiv.org/abs/2302.13971)\n",
    "- [Llama 2: Open Foundation and Fine-Tuned Chat Models, Touvron et al. 2023](https://arxiv.org/abs/2307.09288)\n",
    "- [The Llama 3 Herd of Models](https://arxiv.org/abs/2407.21783)\n",
    "- [Scaling Laws for Neural Language Models, Kaplan et al. 2020](https://arxiv.org/abs/2001.08361)\n",
    "- [Training Compute-Optimal Large Language Models, Hoffmann et al. (Chinchilla)](https://arxiv.org/abs/2203.15556)\n",
    "- [Pixel Recurrent Neural Networks, Van den Oord et al. 2016 (PixelCNN)](https://arxiv.org/abs/1601.06759)\n",
    "- [PixelCNN++: Improving the PixelCNN with Discretized Logistic Mixture Likelihood and Other Modifications, Salimans et al. 2017](https://arxiv.org/abs/1701.05517)\n",
    "- [Zero-Shot Text-to-Image Generation, Ramesh et al. 2021 (DALL-E 1)](https://arxiv.org/abs/2102.12092)\n",
    "- [Autoregressive Model Beats Diffusion: Llama for Scalable Image Generation, Sun et al. 2024 (Image generation with simple autoregressive models)](https://arxiv.org/abs/2406.06525)\n",
    "- [An Image is Worth 16x16 Words: Transformers for Image Recognition at Scale, Dosovitskiy et al. 2020 (Vision Transformer paper)](https://arxiv.org/abs/2010.11929)\n",
    "- [Transformer Circuits Thread](https://transformer-circuits.pub/)\n",
    "- [The Transformer Family Version 2.0, Lilian Weng 2023](https://lilianweng.github.io/posts/2023-01-27-the-transformer-family-v2/)\n",
    "- [The Illustrated Transformer, Jay Alammar 2018](https://jalammar.github.io/illustrated-transformer/)"
   ]
  },
  {
   "cell_type": "markdown",
   "id": "6f9ec4f0-9057-4a8c-ac92-dc9603c5012c",
   "metadata": {},
   "source": [
    "### 4.2 Code bases\n",
    "\n",
    "- [nanoGPT](https://github.com/karpathy/nanoGPT)\n",
    "- [Llama model inference code](https://github.com/meta-llama/llama-models)\n",
    "- [LlamaGen](https://github.com/FoundationVision/LlamaGen)\n",
    "- [torchtitan](https://github.com/pytorch/torchtitan)\n",
    "- [lingua](https://github.com/facebookresearch/lingua)\n",
    "\n",
    "You might find that, in many ways, these repos are not that much different from what we implemented here!"
   ]
  },
  {
   "cell_type": "code",
   "execution_count": null,
   "id": "db1e5682-f0d7-415c-9c7c-6aae68b0fe6e",
   "metadata": {},
   "outputs": [],
   "source": []
  }
 ],
 "metadata": {
  "kernelspec": {
   "display_name": "Python 3 (ipykernel)",
   "language": "python",
   "name": "python3"
  },
  "language_info": {
   "codemirror_mode": {
    "name": "ipython",
    "version": 3
   },
   "file_extension": ".py",
   "mimetype": "text/x-python",
   "name": "python",
   "nbconvert_exporter": "python",
   "pygments_lexer": "ipython3",
   "version": "3.10.16"
  }
 },
 "nbformat": 4,
 "nbformat_minor": 5
}
