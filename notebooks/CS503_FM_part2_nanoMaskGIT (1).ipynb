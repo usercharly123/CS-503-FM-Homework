{
 "cells": [
  {
   "cell_type": "markdown",
   "id": "4bf7f397-467f-4f24-a18f-4143eca2c3ed",
   "metadata": {
    "tags": []
   },
   "source": [
    "# CS 503 Foundation Models: Part 2 - nanoMaskGIT\n",
    "\n",
    "#### Goals:\n",
    "\n",
    "The goal of this second part is to familiarize yourself with the following topics:\n",
    "- Bi-directional attention\n",
    "- Encoder-only Transformer (e.g. BERT, MaskGIT, ...) models\n",
    "- Basic masking schemes\n",
    "- Masked modelling on text and images\n",
    "- Masked inference\n",
    "\n",
    "This notebook should give you a solid foundation of working with masked image models.\n",
    "If you want to know more about these topics, please see some of the reading material in the lectures and at the bottom of this notebook, and feel free to ask the TAs.\n",
    "\n",
    "\n",
    "#### Instructions:\n",
    "\n",
    "- Your task is to fill in the missing code in the acompagning codebase (highlighted by `???`), run the training loops and evaluate the trained models with this notebook.\n",
    "- Submit the notebook with all cells executed, as well as `nanofm/models/maskgit.py`.\n",
    "- The notebooks are individual homework."
   ]
  },
  {
   "cell_type": "markdown",
   "id": "7c7ba70f-25dd-4bdb-953b-d5e4547569ae",
   "metadata": {
    "tags": []
   },
   "source": [
    "---\n",
    "\n",
    "## 1 Setup\n",
    "\n",
    "Please follow the setup detailed in the first notebook."
   ]
  },
  {
   "cell_type": "markdown",
   "id": "e3365eba-118f-4f63-96fe-1c9904fbc050",
   "metadata": {},
   "source": [
    "### 1.1 Imports"
   ]
  },
  {
   "cell_type": "code",
   "execution_count": 1,
   "id": "38061c15-c053-431a-9265-536b778fe5ca",
   "metadata": {},
   "outputs": [],
   "source": [
    "# Switch path to root of project\n",
    "import os\n",
    "os.environ[\"CUDA_VISIBLE_DEVICES\"]=\"0\"\n",
    "current_folder = globals()['_dh'][0]\n",
    "os.chdir(os.path.dirname(os.path.abspath(current_folder)))\n",
    "\n",
    "%load_ext autoreload\n",
    "%autoreload 2"
   ]
  },
  {
   "cell_type": "code",
   "execution_count": null,
   "id": "ef049477-3435-4543-bef7-acfaea93c2bd",
   "metadata": {},
   "outputs": [
    {
     "ename": "ModuleNotFoundError",
     "evalue": "No module named 'torch'",
     "output_type": "error",
     "traceback": [
      "\u001b[1;31m---------------------------------------------------------------------------\u001b[0m",
      "\u001b[1;31mModuleNotFoundError\u001b[0m                       Traceback (most recent call last)",
      "Cell \u001b[1;32mIn[2], line 2\u001b[0m\n\u001b[0;32m      1\u001b[0m \u001b[38;5;28;01mimport\u001b[39;00m\u001b[38;5;250m \u001b[39m\u001b[38;5;21;01mre\u001b[39;00m\n\u001b[1;32m----> 2\u001b[0m \u001b[38;5;28;01mimport\u001b[39;00m\u001b[38;5;250m \u001b[39m\u001b[38;5;21;01mtorch\u001b[39;00m\n\u001b[0;32m      3\u001b[0m \u001b[38;5;28;01mfrom\u001b[39;00m\u001b[38;5;250m \u001b[39m\u001b[38;5;21;01meinops\u001b[39;00m\u001b[38;5;250m \u001b[39m\u001b[38;5;28;01mimport\u001b[39;00m rearrange\n\u001b[0;32m      4\u001b[0m \u001b[38;5;28;01mfrom\u001b[39;00m\u001b[38;5;250m \u001b[39m\u001b[38;5;21;01mtransformers\u001b[39;00m\u001b[38;5;250m \u001b[39m\u001b[38;5;28;01mimport\u001b[39;00m AutoTokenizer\n",
      "\u001b[1;31mModuleNotFoundError\u001b[0m: No module named 'torch'"
     ]
    }
   ],
   "source": [
    "import re\n",
    "import torch\n",
    "from einops import rearrange\n",
    "from transformers import AutoTokenizer\n",
    "from tokenizers.processors import TemplateProcessing\n",
    "\n",
    "import matplotlib.pyplot as plt\n",
    "from mpl_toolkits.axes_grid1 import ImageGrid\n",
    "\n",
    "from nanofm.utils.checkpoint import load_model_from_safetensors\n",
    "from nanofm.data.vision.tokenized_mnist import create_tokenized_mnist_dataloader, detokenize_MNIST\n",
    "\n",
    "os.environ[\"TOKENIZERS_PARALLELISM\"] = \"false\"\n",
    "\n",
    "# The flag below controls whether to allow TF32 on matmul. This flag defaults to False in PyTorch 1.12 and later.\n",
    "torch.backends.cuda.matmul.allow_tf32 = True\n",
    "# The flag below controls whether to allow TF32 on cuDNN. This flag defaults to True.\n",
    "torch.backends.cudnn.allow_tf32 = True\n",
    "\n",
    "device = 'cuda' if torch.cuda.is_available() else 'cpu'\n",
    "torch.set_grad_enabled(False)"
   ]
  },
  {
   "cell_type": "markdown",
   "id": "32547ef7-1554-4d80-80fa-bf0b3487dca9",
   "metadata": {
    "tags": []
   },
   "source": [
    "---\n",
    "\n",
    "## 2 Training nanoMaskGIT on MNIST for image generation\n",
    "\n",
    "In this exercise, we will implement a simplified masked generative model, similar to [MaskGIT](https://masked-generative-image-transformer.github.io/). \n",
    "As with our nanoGPT implementation, we will train it on MNIST for image generation, but will also later explore using it for text generation on TinyStories!\n",
    "\n",
    "#### Masked modeling - Training objective\n",
    "\n",
    "In contrast to autoregressive models that are trained to predict the next token given the context so far, masked generative models like MaskGIT are trained to predict any (masked-out) token given any other (non-masked) subset of tokens.\n",
    "Consider the following example: \n",
    "\n",
    "**Original Sentence:**  \n",
    "```\n",
    "\"The quick brown fox jumps over the lazy dog.\"\n",
    "```\n",
    "\n",
    "**Masked Training Example (cloze):**  \n",
    "```\n",
    "\"The quick [MASK] fox jumps over the [MASK] dog.\"\n",
    "```\n",
    "\n",
    "**Goal:**  \n",
    "The model must predict:\n",
    "- `[MASK]` → \"brown\"\n",
    "- `[MASK]` → \"lazy\"\n",
    "\n",
    "By repeatedly training the model to predict these randomly masked tokens across a large dataset, MaskGIT learns how tokens fit contextually within sequences.\n",
    "\n",
    "\n",
    "#### Masked modeling - Inference\n",
    "\n",
    "\n",
    "By training a model with randomized masking ratios, we are able to use it to progressively \"unmask\" a fully masked initial sequence.\n",
    "At inference, the model starts with all tokens masked and progressively unmasks tokens in multiple steps. Let's show an inference example generating two (`k=2`) tokens at a time.\n",
    "\n",
    "**Initial Masked Sequence:**  \n",
    "```\n",
    "\"[MASK] [MASK] [MASK] [MASK] [MASK] [MASK] [MASK] [MASK] [MASK]\"\n",
    "```\n",
    "\n",
    "**Step-by-step Generation (k=2 tokens at a time):**  \n",
    "\n",
    "- **Step 1:**  \n",
    "```\n",
    "\"The [MASK] [MASK] [MASK] [MASK] [MASK] [MASK] [MASK] dog.\"\n",
    "```\n",
    "\n",
    "- **Step 2:** (unmask next 2 most confident tokens)  \n",
    "```\n",
    "\"The quick [MASK] [MASK] [MASK] [MASK] [MASK] lazy dog.\"\n",
    "```\n",
    "\n",
    "- **Step 3:** (unmask next 2 tokens)  \n",
    "```\n",
    "\"The quick [MASK] fox [MASK] [MASK] [MASK] lazy dog.\"\n",
    "```\n",
    "\n",
    "- **Step 4:** (unmask next 2 tokens)  \n",
    "```\n",
    "\"The quick brown fox jumps [MASK] the lazy dog.\"\n",
    "```\n",
    "\n",
    "- **Step 5 (Final):** (all tokens unmasked)  \n",
    "```\n",
    "\"The quick brown fox jumps over the lazy dog.\"\n",
    "```\n",
    "\n",
    "At each inference step, MaskGIT predicts all masked-out tokens simultaneously (in parallel), and, based on the predicted probabilites, selects the `k` (here `k=2`) most likely tokens. \n",
    "After deciding on which tokens to use, we sample a token index from the predicted probability distribution for each token, and add the tokens to the sequence. \n",
    "This, now slightly less masked, sequence is then used as the input for the next round, where again, the `k=2` most confident tokens are chosen of the remaining masked targets.\n",
    "\n",
    "A crucial difference of masked models to next-token prediction is that at each inference step we can freely choose the number of tokens `k` to simultaneously decode. \n",
    "Depending on the choice of `k`, this can speed up inference significantly, at little cost to generation performance. \n",
    "For example, see the comparison between raster-scan autoregressive, and masked generation below.\n",
    "Each frame of the gif is one generation step. Autoregressive generation predicts each token one-by-one, while masked models may predict them in parallel.\n",
    "\n",
    "![adsf](https://masked-generative-image-transformer.github.io/imgs/sampling.gif)"
   ]
  },
  {
   "cell_type": "markdown",
   "id": "943ec3ac-cbc1-4ace-808f-a0ed9b88ae6d",
   "metadata": {
    "tags": []
   },
   "source": [
    "### 2.1 Overview and tasks\n",
    "\n",
    "To implement nanoMaskGIT, we ask you to complete the subsections below by directly filling in the missing lines in the code base."
   ]
  },
  {
   "cell_type": "markdown",
   "id": "fc0a0338-c83f-4b7f-b4bf-52e15babc394",
   "metadata": {},
   "source": [
    "#### 2.1.1 Initialize nanoMaskGIT (5 points)\n",
    "\n",
    "We will reuse the exact same Transformer layers and trunk built last week for the nanoGPT model, but this time we will use it to assemble a MaskGIT-like model in `nanofm.models.maskgit.MaskGIT`.\n",
    "It consists of a few operations executed in series. Initialize the following modules in the constructor:\n",
    "1. The discrete input tokens are embedded with an `nn.Embedding` layer. Initialize `self.input_embedding` accordingly, taking into account the vocabulary size.\n",
    "2. On top of that, we add learnable positional embeddings. Initialize `self.positional_embedding` as an `nn.Parameter` containing a randomly initialized Tensor of shape (`max_seq_len`, `dim`).\n",
    "3. To indicate masked-out tokens and provide placeholders to write the targets, initialize `self.mask_token` as an `nn.Parameter` containing a randomly initialized Tensor of shape (`dim`).\n",
    "4. This then gets passed to a Transformer trunk. Initialize `self.trunk` with the trunk you implemented last week.\n",
    "5. Finally we project the trunk output through a LayerNorm and output projection that maps the elements from the Transformer dimension to the vocabulary size (as a one-hot vector per token). Initialize `self.out_norm` and `self.to_logits`. The bias term for `self.to_logits` should always be set to False."
   ]
  },
  {
   "cell_type": "markdown",
   "id": "ea932812-cd3e-4cd6-8d0d-b5ffddd38917",
   "metadata": {},
   "source": [
    "#### 2.1.2 Implement the forward function and loss (10 points)\n",
    "\n",
    "Next, let's implement the `forward_model` function:\n",
    "1. Pass the input tokens through the embedding. \n",
    "2. Given the `mask`, replace these embeddings by the learned `self.mask_token`, wherever `mask == True`.\n",
    "3. Add the positional embedding, pass it through the Transformer trunk, output normalization, and output projection.\n",
    "4. When calling the Transformer trunk, no attention mask needs to be specified. This model performs full self-attention between all masked and non-masked tokens.\n",
    "\n",
    "Finally, we need to compute the cross-entropy loss between the logits and the ground-truth targets. Please complete the `compute_ce_loss` function accordingly, and take into account the ignore_index token. We do not want to compute a loss on non-masked tokens that we pass as input; we only compute it on masked-out tokens that we predict."
   ]
  },
  {
   "cell_type": "markdown",
   "id": "c1ab6ee5-36ad-4b03-b053-1188750696fc",
   "metadata": {},
   "source": [
    "#### 2.1.3 Implement random masking (15 points)\n",
    "\n",
    "As used in the `forward` function, during training we want to randomize the `mask` you just applied to the inputs. \n",
    "For that, please complete the `generate_random_mask` function that should return a random mask where True = masked-out and False = not masked.\n",
    "Each sample in the batch should randomly mask out between 1 and L tokens, where L is the sequence length. \n",
    "When L tokens are masked-out, it means there is no input and all tokens are predicted.\n",
    "When only 1 token is masked-out, it means that all but one token are given as input, and only one is predicted. \n",
    "You should be able to see why we have to have at least one token masked.\n",
    "\n",
    "The returned mask tensor should be of type `torch.BoolTensor`, moved to the same device (GPU) as `seq`, and be of shape (B, L).\n",
    "Note that both the number of mask tokens, as well as the placement of the masks should be sampled completely uniformly at random, for every sample in the batch individually.\n",
    "That means you should not apply and broadcast the same mask to the entire batch."
   ]
  },
  {
   "cell_type": "markdown",
   "id": "9533221b-9754-4f89-b8d6-a8ddc105bce7",
   "metadata": {
    "jp-MarkdownHeadingCollapsed": true,
    "tags": []
   },
   "source": [
    "#### 2.1.4 MaskGIT schedule and generation function (20 points)\n",
    "\n",
    "Now let's implement the generation function. We do that in two steps:\n",
    "\n",
    "First, let's implement a so-called generation schedule in `get_maskgit_schedule`. \n",
    "Its task is to give us a list of number of tokens to unmask at every prediction step. \n",
    "It's quite common to make this a cosine schedule, i.e. where the tokens are unmasked slowly at the beginning, then in the middle many tokens are predicted at once, and finally in the end we ramp down again.\n",
    "Here we will implement a much simpler constant schedule, where the number of unmasked tokens per step is constant.\n",
    "For example, if total_tokens = 17 and num_steps = 8, then the schedule should be: [2, 2, 2, 2, 2, 2, 2, 3]. \n",
    "If the total number of tokens is not divisible by the number of steps, we simply add the remainder to the last step.\n",
    "The `schedule` should be a list of integers of length `num_steps`, where each integer represents the number of tokens to unmask at that step. \n",
    "The sum of the integers in `schedule` should equal `total_tokens`.\n",
    "\n",
    "With the simple schedule implemented, let's use it in the `generate` function. Generation is performed in a loop in the following steps:\n",
    "1. Given the sequence and mask so far, simply pass them through the network to get the logits.\n",
    "2. Then, select the subset of logits that we actually want to predict, i.e. the masked-out tokens.\n",
    "3. Over all these predicted tokens, we only want to keep the most \"confident\" predictions. We select for these by computing the maximum logit value for each token as a proxy. The higher the maximum logit is for a given token, the more \"confident\" it is in its prediction.\n",
    "4. Now, let's select the top-k tokens according to these confidence scores. You get the number of tokens `k` from the generation schedule.\n",
    "5. Sample the token indices from these `k` selected token logits. You should use the `sample_tokens` function from `utils/sampling.py`, and remember to pass the relevant sampling hyperparameters.\n",
    "6. Update the sequence and mask for the next round using the newly sampled tokens and their positions.\n",
    "7. Repeat until the end of the generation schedule, when the sequence is fully unmasked."
   ]
  },
  {
   "cell_type": "markdown",
   "id": "acd64834-6658-4cf1-a88d-aed19c61be1e",
   "metadata": {},
   "source": [
    "### 2.2 Training the model\n",
    "\n",
    "We defined a training config for you in: `cfgs/nanoMaskGIT/mnist_d8w512.yaml`. Please familiarize yourself with all parts.\n",
    "Please don't forget to replace the Weights & Bias entity with your own.\n",
    "\n",
    "On a 1xV100 node, you can start the training like:\n",
    "```\n",
    "OMP_NUM_THREADS=1 torchrun --nproc_per_node=1 run_training.py --config cfgs/nanoMaskGIT/mnist_d8w512.yaml\n",
    "```\n",
    "\n",
    "This training should be pretty fast and only take a few minutes. Because masked image models are harder to overfit, we increased the number of training steps five-fold, compared to nanoGPT. You should reach a final validation loss below 0.57, and your loss curves should look something like the following:\n",
    "\n",
    "<img src=\"./assets/nanoMaskGIT_mnist.png\" alt=\"nanoMaskGIT MNIST loss curves\" width=\"1000\">"
   ]
  },
  {
   "cell_type": "markdown",
   "id": "21a95694-bc7d-4ac5-964a-3e0a0e010d5d",
   "metadata": {},
   "source": [
    "### 2.3 Show your loss curves (10 points)\n",
    "\n",
    "Screenshot your loss curves and show them here. Add the image to the `assets` directory and change the path in the markdown. You will get 10 points for reasonable loss curves (similar to the sample loss curves above).\n",
    "\n",
    "<img src=\"./assets/loss_curves_mask_git_mnist.png\" alt=\"nanoMaskGIT MNIST loss curves\" width=\"1000\">"
   ]
  },
  {
   "cell_type": "markdown",
   "id": "c7567ebf-ca13-4ad5-a16b-8e2c1df0c935",
   "metadata": {},
   "source": [
    "### 2.4 Evaluating the model (10 points)\n",
    "\n",
    "After you completed the training, load the model with the following cell. You may need to adjust the path if you changed it.\n",
    "You will get 10 points if the outputs look reasonable (similar to the sample outputs provided below).\n",
    "\n",
    "Hint: You can also load intermediate safetensors checkpoints to check the progress during training."
   ]
  },
  {
   "cell_type": "code",
   "execution_count": null,
   "id": "3fe6e1bb-d198-4f3f-93b1-aed5cf5eb7aa",
   "metadata": {},
   "outputs": [
    {
     "name": "stdout",
     "output_type": "stream",
     "text": [
      "25.174528M parameters\n"
     ]
    }
   ],
   "source": [
    "ckpt_path = './outputs/nanoMaskGIT/mnist_d8w512/checkpoint-final.safetensors'\n",
    "model = load_model_from_safetensors(ckpt_path, device=device)\n",
    "print(f'{model.get_num_params() / 10**6}M parameters')"
   ]
  },
  {
   "cell_type": "markdown",
   "id": "f899e5d6-dd87-4c07-8f40-351c49ff3524",
   "metadata": {},
   "source": [
    "Let's plot some class-conditional generations! We seed the generation by providing the first token, whose index is equal to the number we'd like to generate.\n",
    "For that token, we initialize the mask with `False`, i.e. indicating that that token is given as input, i.e. not masked. \n",
    "The rest of the tokens are masked, and it does not matter what value they have in the `seq` tensor, as they are overwritten by the learnable mask token in the Transformer."
   ]
  },
  {
   "cell_type": "code",
   "execution_count": null,
   "id": "0e298bb3-535f-4f70-90f4-0e8af217c0c2",
   "metadata": {},
   "outputs": [
    {
     "data": {
      "text/plain": [
       "tensor([[ 5, 10, 10, 10, 10, 10, 10, 10, 10, 10, 10, 10, 13, 10, 10, 10, 10, 10,\n",
       "         24, 10, 10, 10, 10, 10, 10, 23, 10, 10, 10, 10, 11, 10, 11, 20, 10, 10,\n",
       "         10, 10, 22, 18, 10, 10, 10, 10, 10, 10, 10, 10, 10, 10]],\n",
       "       device='cuda:0')"
      ]
     },
     "execution_count": 19,
     "metadata": {},
     "output_type": "execute_result"
    }
   ],
   "source": [
    "label = 5\n",
    "\n",
    "seq = torch.zeros(50, dtype=torch.long, device=device)\n",
    "mask = torch.ones(50, dtype=torch.bool, device=device)\n",
    "seq[0] = label\n",
    "mask[0] = False\n",
    "\n",
    "output = model.generate(seq, mask, num_steps=8, temp=1.0, top_p=0.9, return_history=False)\n",
    "output"
   ]
  },
  {
   "cell_type": "code",
   "execution_count": null,
   "id": "7f7d1cde-f9ae-4bc8-b66f-cc6a89346721",
   "metadata": {},
   "outputs": [
    {
     "data": {
      "text/plain": [
       "<matplotlib.image.AxesImage at 0x7f16b86ab820>"
      ]
     },
     "execution_count": 20,
     "metadata": {},
     "output_type": "execute_result"
    },
    {
     "data": {
      "image/png": "[encoded data removed]",
      "text/plain": [
       "<Figure size 640x480 with 1 Axes>"
      ]
     },
     "metadata": {},
     "output_type": "display_data"
    }
   ],
   "source": [
    "reconst = detokenize_MNIST(output, patch_size=2, account_for_labels=True).cpu()\n",
    "plt.imshow(reconst[0], cmap='gray_r')"
   ]
  },
  {
   "cell_type": "markdown",
   "id": "88da2fcd-f7cc-479a-8124-c7c52f0e0332",
   "metadata": {},
   "source": [
    "Let's now generate 10 random samples for all 10 classes. Most should look quite reasonable."
   ]
  },
  {
   "cell_type": "code",
   "execution_count": null,
   "id": "0a37a578-6b9f-4a62-bc36-bb9345c3b38c",
   "metadata": {},
   "outputs": [
    {
     "data": {
      "image/png": "[encoded data removed]",
      "text/plain": [
       "<Figure size 800x800 with 200 Axes>"
      ]
     },
     "metadata": {},
     "output_type": "display_data"
    }
   ],
   "source": [
    "def generate_samples(model, num_steps=8, temp=1.0, top_p=0.0, top_k=0.0, n_samples=10):\n",
    "    fig = plt.figure(figsize=(8., 8.))\n",
    "    grid = ImageGrid(fig, 111, nrows_ncols=(10, n_samples), axes_pad=0.1)\n",
    "    for label in range(10):\n",
    "        for sample_idx in range(n_samples):\n",
    "            grid_idx = label * n_samples + sample_idx\n",
    "            \n",
    "            seq = torch.zeros(50, dtype=torch.long, device=device)\n",
    "            mask = torch.ones(50, dtype=torch.bool, device=device)\n",
    "            seq[0] = label\n",
    "            mask[0] = False\n",
    "            output = model.generate(seq, mask, num_steps=num_steps, temp=temp, top_p=top_p, top_k=top_k, return_history=False)\n",
    "            \n",
    "            reconst = detokenize_MNIST(output, patch_size=2, account_for_labels=True).cpu()\n",
    "            grid[grid_idx].imshow(reconst[0], cmap='Greys', vmin=0, vmax=1)\n",
    "    plt.show()\n",
    "    \n",
    "generate_samples(model, num_steps=8, temp=0.7, top_p=0.9, top_k=0.0)"
   ]
  },
  {
   "cell_type": "markdown",
   "id": "c7c77608-5cb3-4f7e-9ffc-fd36aef83cdb",
   "metadata": {},
   "source": [
    "### 2.5 Open-ended questions (10 points each)\n",
    "\n",
    "Please answer the following questions. You may use additional cells to demonstrate your answers if necessary."
   ]
  },
  {
   "cell_type": "markdown",
   "id": "3c2ae3d6-ddaa-44d9-b5d8-9748a2ec3b5f",
   "metadata": {},
   "source": [
    "#### 2.5.1 Intermediate generation steps\n",
    "\n",
    "`model.generate` has an optional flag `return_history`. Show the intermediate generation steps. What do you observe?"
   ]
  },
  {
   "cell_type": "code",
   "execution_count": null,
   "id": "d5015471-fa5b-41bc-a190-ed5930e2d0a1",
   "metadata": {},
   "outputs": [
    {
     "data": {
      "image/png": "[encoded data removed]",
      "text/plain": [
       "<Figure size 800x800 with 16 Axes>"
      ]
     },
     "metadata": {},
     "output_type": "display_data"
    }
   ],
   "source": [
    "# Fill your answer here\n",
    "num_steps=8\n",
    "temp=1.0\n",
    "top_p=0.0\n",
    "top_k=0.0\n",
    "label=6\n",
    "\n",
    "def generate_samples_history(model, label, num_steps=8, temp=1.0, top_p=0.0, top_k=0.0):\n",
    "    seq = torch.zeros(50, dtype=torch.long, device=device)\n",
    "    mask = torch.ones(50, dtype=torch.bool, device=device)\n",
    "    seq[0] = label\n",
    "    mask[0] = False\n",
    "    seqs_history, masks_history = model.generate(seq, mask, num_steps=num_steps, temp=temp, top_p=top_p, top_k=top_k, return_history=True)\n",
    "\n",
    "    fig = plt.figure(figsize=(num_steps, 8.))\n",
    "    grid = ImageGrid(fig, 111, nrows_ncols=(1, num_steps), axes_pad=0.1)\n",
    "    for i in range(num_steps=1):    ##### HERE I ADDED +1\n",
    "        reconst = detokenize_MNIST(seqs_history[i].unsqueeze(0), patch_size=2, account_for_labels=True).cpu()\n",
    "        grid[i].imshow(reconst[0], cmap='Greys', vmin=0, vmax=1)\n",
    "        \n",
    "    plt.show()\n",
    "    for i in range(num_steps):\n",
    "        grid[i].set_title(f\"Step {i+1}\")\n",
    "    fig.suptitle(f\"Label {label} for {num_steps} steps - Temp {temp} - Top P {top_p} - Top K {top_k}\", fontsize=16)\n",
    "    \n",
    "generate_samples_history(model, label, num_steps=8, temp=0.7, top_p=0.9, top_k=0.0)"
   ]
  },
  {
   "cell_type": "markdown",
   "id": "dc7320e7",
   "metadata": {},
   "source": [
    "**ANSWER**\n",
    "\n",
    "We observe the evolution of the generation in the intermediate steps. It begins by generating white pixels in the extremities, which means that those are the predicted tokens the model is the most confident in. The generation is done on tokens closer and closer to the shape of the number at each generation step. We see that the generated tokens are always white tokens until the last intermediate step, where 1 black token is generated. This is coherent with the confidence that the background will always be white, whereas the number itself could have several shapes, meaning that the model should be less confident on the black tokens.\n",
    "\n",
    "As a consequence, four our number of steps, the imbalance between the number of black and white tokens leads the model to generate the black tokens only in the very last step."
   ]
  },
  {
   "cell_type": "markdown",
   "id": "0cdb60ba-521e-43cd-9c01-c94507740fa4",
   "metadata": {},
   "source": [
    "#### 2.5.2 Number of inference steps\n",
    "\n",
    "With MaskGIT, we can freely choose the number of inference steps `k`. We default to `k=8`, but how does generation with `k` = 1, 4, 8, 16, 32, 49 perform? What do you observe?"
   ]
  },
  {
   "cell_type": "code",
   "execution_count": null,
   "id": "ba08d6c1-4570-4d92-ade9-c59a4e8fc308",
   "metadata": {},
   "outputs": [
    {
     "data": {
      "image/png": "[encoded data removed]",
      "text/plain": [
       "<Figure size 100x800 with 2 Axes>"
      ]
     },
     "metadata": {},
     "output_type": "display_data"
    },
    {
     "data": {
      "image/png": "[encoded data removed]",
      "text/plain": [
       "<Figure size 400x800 with 8 Axes>"
      ]
     },
     "metadata": {},
     "output_type": "display_data"
    },
    {
     "data": {
      "image/png": "[encoded data removed]",
      "text/plain": [
       "<Figure size 800x800 with 16 Axes>"
      ]
     },
     "metadata": {},
     "output_type": "display_data"
    },
    {
     "data": {
      "image/png": "[encoded data removed]",
      "text/plain": [
       "<Figure size 1600x800 with 32 Axes>"
      ]
     },
     "metadata": {},
     "output_type": "display_data"
    },
    {
     "data": {
      "image/png": "[encoded data removed]",
      "text/plain": [
       "<Figure size 3200x800 with 64 Axes>"
      ]
     },
     "metadata": {},
     "output_type": "display_data"
    },
    {
     "data": {
      "image/png": "[encoded data removed]",
      "text/plain": [
       "<Figure size 4900x800 with 98 Axes>"
      ]
     },
     "metadata": {},
     "output_type": "display_data"
    }
   ],
   "source": [
    "# Fill your answer here\n",
    "label = 8\n",
    "\n",
    "generate_samples_history(model, label, num_steps=1, temp=0.7, top_p=0.9, top_k=0.0)\n",
    "\n",
    "generate_samples_history(model, label, num_steps=4, temp=0.7, top_p=0.9, top_k=0.0)\n",
    "\n",
    "generate_samples_history(model, label, num_steps=8, temp=0.7, top_p=0.9, top_k=0.0)\n",
    "\n",
    "generate_samples_history(model, label, num_steps=16, temp=0.7, top_p=0.9, top_k=0.0)\n",
    "\n",
    "generate_samples_history(model, label, num_steps=32, temp=0.7, top_p=0.9, top_k=0.0)\n",
    "\n",
    "generate_samples_history(model, label, num_steps=49, temp=0.7, top_p=0.9, top_k=0.0)"
   ]
  },
  {
   "cell_type": "markdown",
   "id": "df158f06",
   "metadata": {},
   "source": [
    "**ANSWER**\n",
    "\n",
    "We see that there is again a very limited number of black tokens generated in the intermediate steps. When increasing the number of steps, the surroundings of the number will become more precise, but the black tokens that form the number seem to be only generated in the last step."
   ]
  },
  {
   "cell_type": "markdown",
   "id": "f6959e3e-6682-4b9e-afd4-d20362086f58",
   "metadata": {
    "tags": []
   },
   "source": [
    "---\n",
    "\n",
    "## 3 Training nanoGPT on TinyStories\n",
    "\n",
    "Masked generation is quite common for image generation, but has seen a recent resurgence for language models too (e.g. see [LLaDA](https://ml-gsai.github.io/LLaDA-demo/)). \n",
    "Let's run a little experiment and train a masked model on TinyStories, just as we did with nanoGPT."
   ]
  },
  {
   "cell_type": "markdown",
   "id": "074f284f-4ffb-4611-98c1-302b09cd516a",
   "metadata": {},
   "source": [
    "### 3.1 Loading the tokenizer and helper functions"
   ]
  },
  {
   "cell_type": "code",
   "execution_count": null,
   "id": "c9aa2c0e-71af-4d51-9716-9ab4ca17f459",
   "metadata": {},
   "outputs": [
    {
     "data": {
      "text/plain": [
       "GPT2TokenizerFast(name_or_path='gpt2', vocab_size=50257, model_max_length=1024, is_fast=True, padding_side='right', truncation_side='right', special_tokens={'bos_token': '[SOS]', 'eos_token': '[EOS]', 'unk_token': '<|endoftext|>', 'pad_token': '[PAD]'}, clean_up_tokenization_spaces=False, added_tokens_decoder={\n",
       "\t50256: AddedToken(\"<|endoftext|>\", rstrip=False, lstrip=False, single_word=False, normalized=True, special=True),\n",
       "\t50257: AddedToken(\"[PAD]\", rstrip=False, lstrip=False, single_word=False, normalized=False, special=True),\n",
       "\t50258: AddedToken(\"[SOS]\", rstrip=False, lstrip=False, single_word=False, normalized=False, special=True),\n",
       "\t50259: AddedToken(\"[EOS]\", rstrip=False, lstrip=False, single_word=False, normalized=False, special=True),\n",
       "}\n",
       ")"
      ]
     },
     "execution_count": 9,
     "metadata": {},
     "output_type": "execute_result"
    }
   ],
   "source": [
    "# Load the GPT-2 tokenizer\n",
    "tokenizer = AutoTokenizer.from_pretrained(\"gpt2\", trust_remote_code=True)\n",
    "\n",
    "# Add padding, start-of-sequence, and end-of-sequence tokens\n",
    "tokenizer.add_special_tokens({'pad_token': '[PAD]'})\n",
    "tokenizer.add_special_tokens({\n",
    "    'bos_token': '[SOS]',\n",
    "    'eos_token': '[EOS]',\n",
    "})\n",
    "tokenizer._tokenizer.post_processor = TemplateProcessing(\n",
    "    single=\"[SOS] $A [EOS]\",\n",
    "    special_tokens=[('[EOS]', tokenizer.eos_token_id), ('[SOS]', tokenizer.bos_token_id)],\n",
    ")\n",
    "tokenizer"
   ]
  },
  {
   "cell_type": "code",
   "execution_count": null,
   "id": "08407185-c1f8-48fe-9bc8-5b0d35c33e30",
   "metadata": {},
   "outputs": [],
   "source": [
    "def token_ids_to_text(token_ids, text_tokenizer):\n",
    "    \"\"\" Helper function to turn token sequences back to well-formatted text. \"\"\"\n",
    "    decoded = text_tokenizer.decode(token_ids)\n",
    "    # Remove [SOS], [EOS], and [PAD] tokens along with surrounding horizontal whitespace only.\n",
    "    decoded = re.sub(r'[ \\t]*\\[(SOS|EOS|PAD)\\][ \\t]*', ' ', decoded)\n",
    "    # Collapse extra horizontal spaces in each line without touching newline characters.\n",
    "    decoded = '\\n'.join([re.sub(r'[ \\t]+', ' ', line).strip() for line in decoded.splitlines()])\n",
    "    return decoded"
   ]
  },
  {
   "cell_type": "markdown",
   "id": "846e1ee7-7805-42ca-a5f7-7a9f45dadb9e",
   "metadata": {},
   "source": [
    "### 3.2 Training the model\n",
    "\n",
    "We defined a training config for you in: `cfgs/nanoMaskGIT/tinystories_d8w512.yaml`. Please familiarize yourself with all parts.\n",
    "Please don't forget to replace the Weights & Bias entity with your own.\n",
    "\n",
    "On a 2xV100 node, you can start the training like:\n",
    "```\n",
    "OMP_NUM_THREADS=1 torchrun --nproc_per_node=2 run_training.py --config cfgs/nanoMaskGIT/tinystories_d8w512.yaml\n",
    "```\n",
    "\n",
    "This training should take over one hour. You should reach a final validation loss around 2.05, and your loss curves should look something like the following:\n",
    "\n",
    "<img src=\"./assets/nanoMaskGIT_tinystories.png\" alt=\"nanoMaskGIT TinyStories loss curves\" width=\"1000\">"
   ]
  },
  {
   "cell_type": "markdown",
   "id": "b148e772-641d-401f-8759-d470913c07a8",
   "metadata": {},
   "source": [
    "### 3.3 Show your loss curves (10 points)\n",
    "\n",
    "Screenshot your loss curves and show them here. Add the image to the `assets` directory and change the path in the markdown. You will get 10 points for reasonable loss curves (similar to the sample loss curves above).\n",
    "\n",
    "<img src=\"./assets/loss_curves_mask_git_tinystories.png\" alt=\"nanoMaskGIT TinyStories loss curves\" width=\"1000\">"
   ]
  },
  {
   "cell_type": "markdown",
   "id": "ae662ed8-4d89-419f-9419-72dfe1539a8b",
   "metadata": {},
   "source": [
    "### 3.4 Evaluating the model (10 points)\n",
    "\n",
    "After you completed the training, load the model with the following cell. You may need to adjust the path if you changed it.\n",
    "You will get 10 points if the outputs look reasonable (similar to the sample outputs provided below).\n",
    "\n",
    "Hint: You can also load intermediate safetensors checkpoints to check the progress during training."
   ]
  },
  {
   "cell_type": "code",
   "execution_count": 3,
   "id": "461ee865-a0a8-47d1-ac34-577a16c77fcf",
   "metadata": {},
   "outputs": [
    {
     "ename": "NameError",
     "evalue": "name 'load_model_from_safetensors' is not defined",
     "output_type": "error",
     "traceback": [
      "\u001b[1;31m---------------------------------------------------------------------------\u001b[0m",
      "\u001b[1;31mNameError\u001b[0m                                 Traceback (most recent call last)",
      "Cell \u001b[1;32mIn[3], line 2\u001b[0m\n\u001b[0;32m      1\u001b[0m ckpt_path \u001b[38;5;241m=\u001b[39m \u001b[38;5;124m'\u001b[39m\u001b[38;5;124m./outputs/nanoMaskGIT/tinystories_d8w512/checkpoint-final.safetensors\u001b[39m\u001b[38;5;124m'\u001b[39m\n\u001b[1;32m----> 2\u001b[0m model \u001b[38;5;241m=\u001b[39m \u001b[43mload_model_from_safetensors\u001b[49m(ckpt_path, device\u001b[38;5;241m=\u001b[39mdevice)\n\u001b[0;32m      3\u001b[0m \u001b[38;5;28mprint\u001b[39m(\u001b[38;5;124mf\u001b[39m\u001b[38;5;124m'\u001b[39m\u001b[38;5;132;01m{\u001b[39;00mmodel\u001b[38;5;241m.\u001b[39mget_num_params()\u001b[38;5;250m \u001b[39m\u001b[38;5;241m/\u001b[39m\u001b[38;5;250m \u001b[39m\u001b[38;5;241m10\u001b[39m\u001b[38;5;241m*\u001b[39m\u001b[38;5;241m*\u001b[39m\u001b[38;5;241m6\u001b[39m\u001b[38;5;132;01m}\u001b[39;00m\u001b[38;5;124mM parameters\u001b[39m\u001b[38;5;124m'\u001b[39m)\n",
      "\u001b[1;31mNameError\u001b[0m: name 'load_model_from_safetensors' is not defined"
     ]
    }
   ],
   "source": [
    "ckpt_path = './outputs/nanoMaskGIT/tinystories_d8w512/checkpoint-final.safetensors'\n",
    "model = load_model_from_safetensors(ckpt_path, device=device)\n",
    "print(f'{model.get_num_params() / 10**6}M parameters')"
   ]
  },
  {
   "cell_type": "markdown",
   "id": "14b76935-50bd-4467-b72d-30955eb516b7",
   "metadata": {},
   "source": [
    "Let's generate some random (unconditional) stories!"
   ]
  },
  {
   "cell_type": "code",
   "execution_count": 12,
   "id": "af25761c-ae44-4e67-8c77-505d6be35a9e",
   "metadata": {},
   "outputs": [
    {
     "name": "stdout",
     "output_type": "stream",
     "text": [
      "Tom there was a big boy called Tom. He was three years old and very curious. One day, was on exploring and his mum. When saw a little tall building they saw lots of building in the distance.\n",
      "\n",
      "The day, Tom mum walked they ran out the said: \"Look, Tom! A at that place!\" us wondered which: \"What is that place for?\". Dad mum explained\n",
      "\n",
      "They saw that it was big and clear. They said \"It is something old, but it is an old place. We should explore the city together.\"\n",
      "\n",
      "Tom's mum had John to leave. But they soon't see anything the but they he said't. time was sad.\n",
      "remembered that this mum had told him that he did not give why. His mum told him: \"This can be much more fun. we can go to the park again another day!\"\n",
      "\n",
      "But there was a sad face. He realized that he had left in a playground. Just like he would never let the little boy explore own new explore. .\n",
      "\n",
      "--------------------------------------------------\n",
      "\n",
      "M upon was a little family. were all on a holiday. the morning loved the beach were going on holiday vacation. One day it was a hot day, she said, \"We are going to get to an amazing day.\" The little girl was so excited for it time. She was looking curious.\n",
      "\n",
      "But they were the most amazing day. From the heat, an orange one out from their hotel! Mum was so excited that she shouted, \"Yay! Let's go!\" Her\n",
      "mum the o said, \"Maybe't not available. It said we can celebrate our vacation.\n",
      "\n",
      "The little girl couldn happy. She wanted so much. She watched as bright it steam started turned brighter the yacht. She was so and glad. She the sun thanked her oboat for her party.\n",
      "\n",
      "The little girl and mum laughed and talked and played for a while. They were so excited, and soon they had had a amazing time together.\n",
      "\n",
      "--------------------------------------------------\n",
      "\n",
      "Once upon a time, a little girl named Emma was happy. She saw a big hill in the park and it looked funny. Emma touched and she felt a little pinch. She looked closely and saw that the had kept moving out She was to know very far and she wished she could touch it! She stepped closer and noticed a big, furry animal near her house. She was very scared and she to run to it hide. Just then, she spotted a small, that came from behind a tree. Emma was so amazed that she was able to see the squirrel and she couldn't believe it eyes.\n",
      "\n",
      "She followed the squirrel, and they walked through the tree. They played together for a long time. Emma was amazed by the squirrel who had watched her from it. she smiled as as walked as fast as she knew She was wait to remember amazing adventure\n",
      "\n",
      "--------------------------------------------------\n",
      "\n",
      "L was a mark on her mom dad's desk. He was very important and thought had a name. She liked to explore pictures and make pictures with her blocks and cars. Then she she had her friend idea. She had a very on the hand and ran to to her sister. When she arrived at her house, she was very of her. They was very kind. They had a big pencil on the wall and Lily wore a name on top of She had to find a present for her mom and show her.\n",
      "\n",
      "Whenily reached to her room, she saw her nos lying on on the floor. She decided and looked the thing piece of \" She had a blue sticker on it. Tom smiled and said, \"Hello, Lily, Have you right.\"\n",
      "They went over their mom and they her room a cake. They was very to see what Lily wanted. Sara opened Tom's and saw it. \"Wow, \"imi, what is it?\" it said. \" did you do it Lily asked. \"Do you want to be a cake?\" Her and smiled and nodded too.I love you.\" Lily said, \" You are the best friend!\" Tom smiled and said, \"You did a wonderful job.\" She said, \"You're welcome\n",
      "\n",
      "--------------------------------------------------\n",
      "\n",
      "One upon a time, Lucy was her mum. She was only anxious. she really excited she Today, had a day her. Her had a out threeirls-up living a tall big slide. Lucy liked to laugh.\n",
      "\n",
      "Lucy grabbed her favourite hat and She went for a walk. After a while, her mum asked her if she wanted to slide on the slide. nodded her head yes tried to slide first her head As they slid down the slide, Lucy had forgotten that she was so fast. She began to swing around.\n",
      "\n",
      "When she got done, Lucy ran from under her feet. She laughed as she slid and laughed higher. Finally, her mum was so surprised that she said \" \"You look so crazy Lucy Lucy! You are have a dared to slide really down the slide now!\"\n",
      "\n",
      "Lucy smiled and said to herself: \"That looks still so dizzy!\" And then, she rushed back to the slide and smiled. They had lots of fun until they reached the top. !\n",
      "\n",
      "--------------------------------------------------\n",
      "\n"
     ]
    }
   ],
   "source": [
    "for _ in range(5):\n",
    "    seq = torch.zeros(256, dtype=torch.long, device=device)\n",
    "    mask = torch.ones(256, dtype=torch.bool, device=device)\n",
    "    output = model.generate(seq, mask, num_steps=128, temp=1.0, top_k=100, return_history=False)\n",
    "    print(token_ids_to_text(output[0], text_tokenizer=tokenizer))\n",
    "    print('\\n' + '-'*50 + '\\n')"
   ]
  },
  {
   "cell_type": "markdown",
   "id": "00cb8ab8-0a6b-446c-af41-acacf2c584cd",
   "metadata": {},
   "source": [
    "### 3.5 Open-ended questions (10 points each)\n",
    "\n",
    "Please answer the following questions. You may use additional cells to demonstrate your answers if necessary."
   ]
  },
  {
   "cell_type": "markdown",
   "id": "8f3c1f71-4a23-4eb9-8f06-2854fc66b480",
   "metadata": {},
   "source": [
    "#### 3.5.1 Intermediate generation steps\n",
    "\n",
    "Similar as in 2.5.1, `model.generate` has an optional flag `return_history`. Show the intermediate generation steps. What do you observe?"
   ]
  },
  {
   "cell_type": "code",
   "execution_count": null,
   "id": "1d5a974f-773a-4851-a3d4-f3ded2a45022",
   "metadata": {},
   "outputs": [
    {
     "name": "stdout",
     "output_type": "stream",
     "text": [
      "Once upon!!!!!!!!!!!!!!!!!!!!!!!!!!!!!!!!!!!!!!!!!!!!!!!!!!!!!!!!!!!!!!!!!!!!!!!!!!!!!!!!!!!!!!!!!!!!!!!!!!!!!!!!!!!!!!!!!!!!!!!!!!!!!!!!!!!!!!!!!!!!!!!!!!!!!!!!!!!!!!!!!!!!!!!!!!!!!!!!!!!!!!!!!!!!!!!!!!!!!!!!!!!!!!!!!!!!!!!!!!!!!!!!!!!!!!!!!!!!!!!!!!!!!!!!!!!!!!\n",
      "\n",
      "--------------------------------------------------\n",
      "\n",
      "Once upon a time, there was a humble horse who loved to play. He lived all day alone in the fields, but for much friends to One day, a saw that and!!!!!!!!!!!!!!!!!!!!!!!!!!!!!!!!!!!!!!!!!!!!!!!!!!!!!!!!!!!!!!!!!!!!!!!!!!!!!!!!!!!!!!!!!!!!!!!!!!!!!!!!!!!!!!!!!!!!!!!!!!!!!!!!!!!!!!!!!!!!!!!!!!!!!!!!!!!!. .\n",
      "\n",
      "--------------------------------------------------\n",
      "\n",
      "Once upon a time, there was a humble horse who loved to play. He lived all day alone in the fields, but for much friends to One day, a saw that and went was into to see in a horse. He horse became scared and wanted away,, but he knew't. was wanted to be friends, so he went to find an way back home.\n",
      "\n",
      "Just then, a man saw a man walking by away and He saw bad people, so when he started to laugh. He asked around him the man told them that they could go around him. The kind stopped the man and said, \"Please I will be friends friends!\" you!!\n",
      "!!!!!!!!!!!!!!!!!!!!!!!!!!!!!!!!!! safely. From day on, he was no longer feeling of his friends, and they were the best of friends. .\n",
      "\n",
      "--------------------------------------------------\n",
      "\n",
      "Once upon a time, there was a humble horse who loved to play. He lived all day alone in the fields, but for much friends to One day, a saw that and went was into to see in a horse. He horse became scared and wanted away,, but he knew't. was wanted to be friends, so he went to find an way back home.\n",
      "\n",
      "Just then, a man saw a man walking by away and He saw bad people, so when he started to laugh. He asked around him the man told them that they could go around him. The kind stopped the man and said, \"Please I will be friends friends!\" you want.\n",
      "\n",
      "The!!!!!!!!!!!!!!!!!!!!!!!!!!!!!!!! safely. From day on, he was no longer feeling of his friends, and they were the best of friends. .\n",
      "\n",
      "--------------------------------------------------\n",
      "\n",
      "Once upon a time, there was a humble horse who loved to play. He lived all day alone in the fields, but for much friends to One day, a saw that and went was into to see in a horse. He horse became scared and wanted away,, but he knew't. was wanted to be friends, so he went to find an way back home.\n",
      "\n",
      "Just then, a man saw a man walking by away and He saw bad people, so when he started to laugh. He asked around him the man told them that they could go around him. The kind stopped the man and said, \"Please I will be friends friends!\" you want.\n",
      "\n",
      "The man looked at the lion and said, \"!!!!!!!!!!!!!!!!, and the lion always followed him safely. From day on, he was no longer feeling of his friends, and they were the best of friends. .\n",
      "\n",
      "--------------------------------------------------\n",
      "\n"
     ]
    }
   ],
   "source": [
    "# Fill your answer here\n",
    "def generate_samples_text_history(model, num_steps=128, temp=1.0, top_k=100):\n",
    "    seq = torch.zeros(256, dtype=torch.long, device=device)\n",
    "    mask = torch.ones(256, dtype=torch.bool, device=device)\n",
    "    seqs_history, masks_history = model.generate(seq, mask, num_steps=128, temp=1.0, top_k=100, return_history=True)\n",
    "\n",
    "    for i in [1, 50, 110, 112, 120, 128]:\n",
    "        output = seqs_history[i]\n",
    "        print(f\"Step {i+1}\")\n",
    "        print(token_ids_to_text(output, text_tokenizer=tokenizer))\n",
    "        print('\\n' + '-'*50 + '\\n')\n",
    "        \n",
    "        \n",
    "generate_samples_text_history(model, num_steps=128, temp=1.0, top_k=100)"
   ]
  },
  {
   "cell_type": "markdown",
   "id": "ee85f348-ce6a-4cf7-8ba8-ae5ba0cacf6f",
   "metadata": {},
   "source": [
    "#### 3.5.2 Number of inference steps\n",
    "\n",
    "Similar as in 2.5.1, with MaskGIT, we can freely choose the number of inference steps `k`. We default to `k=8`, but how does generation with `k` = 1, 4, 8, 16, 32, 49 perform? What do you observe?"
   ]
  },
  {
   "cell_type": "code",
   "execution_count": null,
   "id": "743cad67-9e6e-47fd-8a8a-e43161548927",
   "metadata": {},
   "outputs": [
    {
     "name": "stdout",
     "output_type": "stream",
     "text": [
      "k = 4\n",
      "torch.Size([5, 256])\n",
      "L upon a time little. a a!!!!!!!!!!!!!!!!!!!!!!!!!!!!!!!!!!!!!!!!!!!!!!!!!!!!!!!!!!!!!!!!!!!!!!!!!!!!!!!!!!!!!!!!!!!!!!!!!!!!!!!!!!!!!!!!!!!!!!!!!!!!!!!!!!!!!!!!!!!!!!!!!!!!!!!!!!!!!!!!!!!!!!!!!!!!!!!!!!!!!!!!!!!!!!!!\n",
      ". and and\n",
      "L upon a time little. a a little girl girl She.. was... to,,.... to.,\n",
      ".\n",
      "\n",
      "the. the and..\n",
      "\n",
      "\n",
      "and\n",
      "and the. the!!!!\n",
      ".. the,\n",
      "! and!!.!!!!!!!!!!!!!!!!!!!!!!!!!!!!!!!!!!!!!!!!!!!!!!!!!!!!!!!!!!!!!!!!!!!!!!!!!!!!!!!!!!!!!!!!!!!!!!!!!!!!!!!!!!!!!!!!!!!!!!!!!. and and and . the\n",
      ". and and\n",
      "L upon a time little. a a little girl girl She.. was... to,,.... to.,\n",
      ".\n",
      "\n",
      "the. the and..\n",
      "\n",
      "\n",
      "and\n",
      "and the. the sun were..\n",
      ".. the,\n",
      "Anna and the laughed.\n",
      "\n",
      "was. and..\n",
      "\n",
      "\n",
      "\n",
      "and. the the\n",
      ". the..\n",
      ".\n",
      "\n",
      ".\n",
      ".\n",
      "the and and and and.\n",
      "\n",
      "\n",
      "and\n",
      "..\n",
      "!!!!! and!!!!!!!!!!!!!!!!!!!!!!!!!!!!!!!!!!!!!!!.!!!!!! and!!!!!.! the!!!!!!!!.\n",
      ".\n",
      "They.. They the happy. and and and . the\n",
      ". and and\n",
      "\n",
      "--------------------------------------------------\n",
      "\n",
      "k = 8\n",
      "torch.Size([9, 256])\n",
      "Once upon a time were there was a big. They and were. a were the a and the day,, day,\n",
      "and!!!!!!!!!!!!!!!!!!!!!!!!!!!!!!!!!!!!!!!!!!!!!!!!!!!!!!!!!!!!!!!!!!!!!!!!!!!!!!!!!!!!!!!!!!!!!!!!!!!!!!!!!!!!!!!!!!!!!!!!!!!!!!!!!!!!!!!!!!!!!!!!!!!!!!!!!!!!!!!!!!!!!!!!!!!!!!!!!!!!!!!!!!!!!!!! the. . a.. ! . . .\n",
      "Once upon a time were there was a big. They and were. a were the a and the day,, day,\n",
      "andOne,,, and and the... a the\n",
      "the sky was the was.. It was!! was the\n",
      "a\n",
      "\n",
      ".\n",
      "\n",
      ".\n",
      ". was to\n",
      "\n",
      "He said a!!! was\n",
      "was the.!!!!!!!!!!,!! the!!!!\n",
      "!\n",
      "\n",
      "!!! the!!!!!!!!!!!!!!!!!!!!!!!!!!!!!!!!!!!!!!!!!!!!!!!!!!!!!!!!!!!!!!!!!!!!!!!!!!!!!!!!!!!!!!!!!!!!!!!!!!!!!!!. They.\n",
      "\n",
      "all the had the best day on the. . a.. ! . . .\n",
      "Once upon a time were there was a big. They and were. a were the a and the day,, day,\n",
      "andOne,,, and and the... a the\n",
      "the sky was the was.. It was like wind was the\n",
      "a\n",
      "\n",
      ".\n",
      "\n",
      ".\n",
      ". was to\n",
      "\n",
      "He said a voice thing it was\n",
      "was the. He was talking. He\n",
      "He was. said, and saw the sky would come.\n",
      "\n",
      "\n",
      "They ran and the bird. They laughed.\n",
      ".\n",
      "was the sun day and the.. was.\n",
      ".. and.\n",
      "\n",
      "the! to,\n",
      "... the\n",
      "\n",
      "and!!!!!!!!.!!!!!!!!!!!!!!!!!!!! They\n",
      ".... said. said.!!! the.\n",
      "\n",
      "The birds\n",
      ".. was sky was the They\n",
      ". and in the, was the too. They.\n",
      "\n",
      "all the had the best day on the. . a.. ! . . .\n",
      "\n",
      "--------------------------------------------------\n",
      "\n",
      "k = 16\n",
      "torch.Size([17, 256])\n",
      "Once there, time, there was a!!!!!!!!!!!!!!!!!!!!!!!!!!!!!!!!!!!!!!!!!!!!!!!!!!!!!!!!!!!!!!!!!!!!!!!!!!!!!!!!!!!!!!!!!!!!!!!!!!!!!!!!!!!!!!!!!!!!!!!!!!!!!!!!!!!!!!!!!!!!!!!!!!!!!!!!!!!!!!!!!!!!!!!!!!!!!!!!!!!!!!!!!!!!!!!! a\n",
      "Once there, time, there was a little in. She lived a small house with. in and day very, play day and friends things something liked to, so was girl!!! to wasOne.\n",
      "!!!!!!!!!!!!!!!!!!!!!!!!!!!!!!!!!!!!!!!!!!!!!!!!!!!!!!!!!!!!!!!!!!!!!!!!!!!!!!!!!!!!!!!!!!!!!!!!!!!!!!!!!!!!!!!!!!!!!!!!!!!!! and day when she was friends. of was a\n",
      "Once there, time, there was a little in. She lived a small house with. in and day very, play day and friends things something liked to, so was girl and to something to wasOne.\n",
      "\n",
      "Today day,, when girl was idea of a to. to a to the her and she, the.. She was was happy excited to with the it, so. It was it!\n",
      ".The so girl was out of her new, She the She friends She. the day and to a friends!! her They a. and..!!!!!!!!!\n",
      "!!!!!, everyone made it them. They.The party In the, was they was things to to was, her girl was happy to her with too. her she her she she the, and day when she was friends. of was a\n",
      "\n",
      "--------------------------------------------------\n",
      "\n",
      "k = 32\n",
      "torch.Size([33, 256])\n",
      "Once upon a to, in was a village family The In!!!!!!!!!!!!!!!!!!!!!!!!!!!!!!!!!!!!!!!!!!!!!!!!!!!!!!!!!!!!!!!!!!!!!!!!!!!!!!!!!!!!!!!!!!!!!!!!!!!!!!!!!!!!!!!!!!!!!!!!!!!!!!!!!!!!!!!!!!!!!!!!!!!!!!!!!!!!!!!!!!!!!!!!!!!!!!!!!!!!!!!!!!!!!!!! .. .\n",
      "Once upon a to, in was a village family The In each village, there of people were. The family. to,, people were their special and happy.\n",
      "One, one group of people walking to. on a holiday big a very on. They they saw!!!!!!!!!!!!!!!!!!!!!!!!!!!!!!!!!!!!!!!!!!!!!!!!!!!!!!!!!!!!!!!!!!!!!!!!!!!!!!!!!!!!!!!!!!!!!!!!!!!!!!!!!!!!!!!!!!!!!!!!!!\n",
      "had!!!!! in and!. were. They goodbye And everyone family and home, happy to see the them again. .. .\n",
      "Once upon a to, in was a village family The In each village, there of people were. The family. to,, people were their special and happy.\n",
      "One, one group of people walking to. on a holiday big a very on. They they saw something different. of sky was coming and down big far away.\n",
      "\n",
      "was a very,. Everyone said to the people \"We should to on our holiday of the trip We can make you laugh like the\n",
      "The was\n",
      ", as decided that. their children in the sky said made they!!!!! a!. They\n",
      "so!! to wave at the beach. and waved the other end to the.\n",
      "people all the smiled and so things, The animals and be back like the! They laughed all ran sky, and all away with friends and everywhere all went together..\n",
      "\n",
      "had a time until they stayed in and family. were. They goodbye And everyone family and home, happy to see the them again. .. .\n",
      "\n",
      "--------------------------------------------------\n",
      "\n",
      "k = 64\n",
      "torch.Size([65, 256])\n",
      "Once upon a time, girl a girl who loved to go to the park. She had many things, that!!!!!!!!!!!!!!!!!!!!!!!!!!!!!!!!!!!!!!!!!!!!!!!!!!!!!!!!!!!!!!!!!!!!!!!!!!!!!!!!!!!!!!!!!!!!!!!!!!!!!!!!!!!!!!!!!!!!!!!!!!!!!!!!!!!!!!!!!!!!!!!!!!!!!!!!!!!!!!!!!!!!!!!!!!!!!!!!!!!!!!!!!!!!!!!! .\n",
      "Once upon a time, girl a girl who loved to go to the park. She had many things, that she heard about being. When to the to she found a very She grabbed and grabbed and started to open on. Suddenly\n",
      "\n",
      "the garden girl opened there, saw a surprise. had lots big!!!!!!!!!!!!!!!!!!!!!!!!!!!!!!!!!!!!!!!!!!!!!!!!!!!!!!!!!!!!!!!!!!!!!!!!!!!!!!!!!!!!!!!!!!!!!!!!!!!!!!!!!!!!!!!!!!!!!!!!!!!!!!!! in gift as she gave with a a smile out to face, feeling happy that the grandma had help her come too. .\n",
      "Once upon a time, girl a girl who loved to go to the park. She had many things, that she heard about being. When to the to she found a very She grabbed and grabbed and started to open on. Suddenly\n",
      "\n",
      "the garden girl opened there, saw a surprise. had lots big vegetables letters and vegetables too. for her little girl got ready and ran her home.\n",
      "house was out of the and exciting was so from had been a surprise.\n",
      "\n",
      "The little girl could so family to help parents get She was so amazed. She was so proud of herself and\n",
      "went around the she was an invitation to give her her a They. She they the best! put!!! of the kitchen and was a all of their family as the little Everyone was so proud that she thanked her.\n",
      "\n",
      "The girl had the time in grandma done and she came to the home with her family. The She of a girl in gift as she gave with a a smile out to face, feeling happy that the grandma had help her come too. .\n",
      "\n",
      "--------------------------------------------------\n",
      "\n"
     ]
    }
   ],
   "source": [
    "# Fill your answer here\n",
    "for k in [4, 8, 16, 32, 64]:\n",
    "    print(f\"Number of steps = {k}\")\n",
    "    generate_samples_text_history(model, num_steps=128, temp=1.0, top_k=100)\n",
    "    \n",
    "    print('\\n' + '/'*50 + '\\n')"
   ]
  },
  {
   "cell_type": "markdown",
   "id": "98a6b31c-2d8b-41f9-a124-70e0238daa06",
   "metadata": {},
   "source": [
    "#### 3.5.3 Comparison to autoregressive generation\n",
    "\n",
    "How would you compare these results to the ones you got from nanoGPT? What are some failure modes you observe? And what could be some benefits? Do you have any thoughs on how we can improve text generation with masked models, or should we just stick to autoregressive models?"
   ]
  },
  {
   "cell_type": "markdown",
   "id": "fd05978d-7fa1-4263-8179-ec11a46842c2",
   "metadata": {},
   "source": [
    "**ANSWER**\n",
    "\n",
    "The content of the maskGit generations are more empty of meaning and coherence compared to the generations of nanoGPT. This can be observed in the intermediate steps of generation: when the generations are made at the beginning and the end first, and then the middle part of the generation is filled, the story will be less complex and linear than we could expect a next-token generation to be. The linearity of language being absent, this is a natural failure mode for maskGit.\n",
    "\n",
    "On the contrary, this can be seen as a benefit. Whereas in next-token prediction, one \"bad\" predicted token can influence all the rest of the generation and make it of poor quality, especially if it is at the beggining, in maskGit the global self-attention mechanism can make sense of several part of the story to find the best fitting token. This might make the generation more robust to an unwanted generated token in the sequence to still have the rest of the generation of good quality.\n",
    "\n",
    "Overall, as the English language is naturally autoregressive, autoregressive models may seem to be more natural to model language. However, in other languages where the order of the words is significantly different, like in Japanese where the verb is at the end, the meaning of the sentence changes completely depending on the last work. In this case, generating first the last tokens could help construct the rest of the sentence in a more natural way, as it is probably how human speakers reason: they know what verb they want to say at the end, and they construct their sentence based on this."
   ]
  },
  {
   "cell_type": "markdown",
   "id": "52cf37ad-3f51-443d-879f-6632cea55f5b",
   "metadata": {
    "tags": []
   },
   "source": [
    "## 4 Further reading\n",
    "\n",
    "Here is some further reading material should you want to dive deeper on masked modeling.\n",
    "\n",
    "Masked image generation:\n",
    "- [MaskGIT: Masked Generative Image Transformer](https://arxiv.org/abs/2202.04200)\n",
    "- [Muse: Text-To-Image Generation via Masked Generative Transformers](https://arxiv.org/abs/2301.00704)\n",
    "- [MAGE: MAsked Generative Encoder to Unify Representation Learning and Image Synthesis](https://arxiv.org/abs/2211.09117)\n",
    "- [Randomized Autoregressive Visual Generation](https://arxiv.org/abs/2411.00776)\n",
    "- [RandAR: Decoder-only Autoregressive Visual Generation in Random Orders](https://arxiv.org/abs/2412.01827)\n",
    "- [Autoregressive Image Generation without Vector Quantization](https://arxiv.org/abs/2406.11838)\n",
    "- [4M: Massively Multimodal Masked Modeling](https://arxiv.org/abs/2312.06647)\n",
    "\n",
    "Masked text generation:\n",
    "- [Exploring the Limits of Transfer Learning with a Unified Text-to-Text Transformer](https://arxiv.org/abs/1910.10683)\n",
    "- [Structured Denoising Diffusion Models in Discrete State-Spaces](https://arxiv.org/abs/2107.03006)\n",
    "- [Large Language Diffusion Models](https://arxiv.org/abs/2502.09992)\n",
    "\n",
    "Masked pre-training:\n",
    "- [BERT: Pre-training of Deep Bidirectional Transformers for Language Understanding](https://arxiv.org/abs/1810.04805)\n",
    "- [RoBERTa: A Robustly Optimized BERT Pretraining Approach](https://arxiv.org/abs/1907.11692)\n",
    "- [ELECTRA: Pre-training Text Encoders as Discriminators Rather Than Generators](https://arxiv.org/abs/2003.10555)\n",
    "- [Masked Autoencoders Are Scalable Vision Learners](https://arxiv.org/abs/2111.06377)\n",
    "- [BEiT: BERT Pre-Training of Image Transformers](https://arxiv.org/abs/2106.08254)\n",
    "- [BEiT v2: Masked Image Modeling with Vector-Quantized Visual Tokenizers](https://arxiv.org/abs/2208.06366)"
   ]
  },
  {
   "cell_type": "code",
   "execution_count": null,
   "id": "abb1dead-53d5-4b38-9ef3-52a7cbe47ea1",
   "metadata": {},
   "outputs": [],
   "source": []
  }
 ],
 "metadata": {
  "kernelspec": {
   "display_name": "nanofm",
   "language": "python",
   "name": "python3"
  },
  "language_info": {
   "codemirror_mode": {
    "name": "ipython",
    "version": 3
   },
   "file_extension": ".py",
   "mimetype": "text/x-python",
   "name": "python",
   "nbconvert_exporter": "python",
   "pygments_lexer": "ipython3",
   "version": "3.10.16"
  }
 },
 "nbformat": 4,
 "nbformat_minor": 5
}
